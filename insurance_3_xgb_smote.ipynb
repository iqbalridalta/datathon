{
  "nbformat": 4,
  "nbformat_minor": 0,
  "metadata": {
    "colab": {
      "name": "insurance_3_xgb_smote.ipynb",
      "provenance": []
    },
    "kernelspec": {
      "display_name": "Python 3",
      "name": "python3"
    }
  },
  "cells": [
    {
      "cell_type": "code",
      "metadata": {
        "id": "PxKD5gbn0h2I"
      },
      "source": [
        ""
      ],
      "execution_count": null,
      "outputs": []
    },
    {
      "cell_type": "markdown",
      "metadata": {
        "id": "Q-vSG950whE-"
      },
      "source": [
        "Summary\r\n",
        "Columns :\r\n",
        "Train Column :\r\n",
        "Deleted Column : Gender\r\n",
        "Model Testted :\r\n",
        "Model Applied :"
      ]
    },
    {
      "cell_type": "code",
      "metadata": {
        "id": "7ujJfJBMwcrN"
      },
      "source": [
        "import pandas as pd\r\n",
        "import numpy as np\r\n",
        "import matplotlib.pyplot as plt\r\n",
        "import seaborn as sns"
      ],
      "execution_count": 17,
      "outputs": []
    },
    {
      "cell_type": "markdown",
      "metadata": {
        "id": "EzFvVUDnSL2v"
      },
      "source": [
        "# EDA"
      ]
    },
    {
      "cell_type": "code",
      "metadata": {
        "id": "SYwfdNKf0o3K"
      },
      "source": [
        "#Input Data\r\n",
        "insurance_data  = pd.read_csv(\"https://raw.githubusercontent.com/dphi-official/Datasets/master/travel_insurance/Training_set_label.csv\" )"
      ],
      "execution_count": 3,
      "outputs": []
    },
    {
      "cell_type": "code",
      "metadata": {
        "colab": {
          "base_uri": "https://localhost:8080/",
          "height": 204
        },
        "id": "7CZ1vf2h0-tj",
        "outputId": "e5c0eccf-931c-4a31-c8eb-7da1dffd713a"
      },
      "source": [
        "insurance_data.head()"
      ],
      "execution_count": 4,
      "outputs": [
        {
          "output_type": "execute_result",
          "data": {
            "text/html": [
              "<div>\n",
              "<style scoped>\n",
              "    .dataframe tbody tr th:only-of-type {\n",
              "        vertical-align: middle;\n",
              "    }\n",
              "\n",
              "    .dataframe tbody tr th {\n",
              "        vertical-align: top;\n",
              "    }\n",
              "\n",
              "    .dataframe thead th {\n",
              "        text-align: right;\n",
              "    }\n",
              "</style>\n",
              "<table border=\"1\" class=\"dataframe\">\n",
              "  <thead>\n",
              "    <tr style=\"text-align: right;\">\n",
              "      <th></th>\n",
              "      <th>Agency</th>\n",
              "      <th>Agency Type</th>\n",
              "      <th>Distribution Channel</th>\n",
              "      <th>Product Name</th>\n",
              "      <th>Duration</th>\n",
              "      <th>Destination</th>\n",
              "      <th>Net Sales</th>\n",
              "      <th>Commision (in value)</th>\n",
              "      <th>Gender</th>\n",
              "      <th>Age</th>\n",
              "      <th>Claim</th>\n",
              "    </tr>\n",
              "  </thead>\n",
              "  <tbody>\n",
              "    <tr>\n",
              "      <th>0</th>\n",
              "      <td>CWT</td>\n",
              "      <td>Travel Agency</td>\n",
              "      <td>Online</td>\n",
              "      <td>Rental Vehicle Excess Insurance</td>\n",
              "      <td>61</td>\n",
              "      <td>UNITED KINGDOM</td>\n",
              "      <td>19.8</td>\n",
              "      <td>11.88</td>\n",
              "      <td>NaN</td>\n",
              "      <td>29</td>\n",
              "      <td>0</td>\n",
              "    </tr>\n",
              "    <tr>\n",
              "      <th>1</th>\n",
              "      <td>EPX</td>\n",
              "      <td>Travel Agency</td>\n",
              "      <td>Online</td>\n",
              "      <td>Cancellation Plan</td>\n",
              "      <td>93</td>\n",
              "      <td>NEW ZEALAND</td>\n",
              "      <td>63.0</td>\n",
              "      <td>0.00</td>\n",
              "      <td>NaN</td>\n",
              "      <td>36</td>\n",
              "      <td>0</td>\n",
              "    </tr>\n",
              "    <tr>\n",
              "      <th>2</th>\n",
              "      <td>EPX</td>\n",
              "      <td>Travel Agency</td>\n",
              "      <td>Online</td>\n",
              "      <td>2 way Comprehensive Plan</td>\n",
              "      <td>22</td>\n",
              "      <td>UNITED STATES</td>\n",
              "      <td>22.0</td>\n",
              "      <td>0.00</td>\n",
              "      <td>NaN</td>\n",
              "      <td>25</td>\n",
              "      <td>0</td>\n",
              "    </tr>\n",
              "    <tr>\n",
              "      <th>3</th>\n",
              "      <td>C2B</td>\n",
              "      <td>Airlines</td>\n",
              "      <td>Online</td>\n",
              "      <td>Silver Plan</td>\n",
              "      <td>14</td>\n",
              "      <td>SINGAPORE</td>\n",
              "      <td>54.5</td>\n",
              "      <td>13.63</td>\n",
              "      <td>M</td>\n",
              "      <td>24</td>\n",
              "      <td>0</td>\n",
              "    </tr>\n",
              "    <tr>\n",
              "      <th>4</th>\n",
              "      <td>EPX</td>\n",
              "      <td>Travel Agency</td>\n",
              "      <td>Online</td>\n",
              "      <td>Cancellation Plan</td>\n",
              "      <td>90</td>\n",
              "      <td>VIET NAM</td>\n",
              "      <td>10.0</td>\n",
              "      <td>0.00</td>\n",
              "      <td>NaN</td>\n",
              "      <td>23</td>\n",
              "      <td>0</td>\n",
              "    </tr>\n",
              "  </tbody>\n",
              "</table>\n",
              "</div>"
            ],
            "text/plain": [
              "  Agency    Agency Type Distribution Channel  ... Gender  Age Claim\n",
              "0    CWT  Travel Agency               Online  ...    NaN   29     0\n",
              "1    EPX  Travel Agency               Online  ...    NaN   36     0\n",
              "2    EPX  Travel Agency               Online  ...    NaN   25     0\n",
              "3    C2B       Airlines               Online  ...      M   24     0\n",
              "4    EPX  Travel Agency               Online  ...    NaN   23     0\n",
              "\n",
              "[5 rows x 11 columns]"
            ]
          },
          "metadata": {
            "tags": []
          },
          "execution_count": 4
        }
      ]
    },
    {
      "cell_type": "code",
      "metadata": {
        "colab": {
          "base_uri": "https://localhost:8080/"
        },
        "id": "zenQAyM41R-3",
        "outputId": "2eeefca4-55fa-42f2-8651-fba1021257d8"
      },
      "source": [
        "#check out missing value\r\n",
        "insurance_data.info()"
      ],
      "execution_count": 5,
      "outputs": [
        {
          "output_type": "stream",
          "text": [
            "<class 'pandas.core.frame.DataFrame'>\n",
            "RangeIndex: 48260 entries, 0 to 48259\n",
            "Data columns (total 11 columns):\n",
            " #   Column                Non-Null Count  Dtype  \n",
            "---  ------                --------------  -----  \n",
            " 0   Agency                48260 non-null  object \n",
            " 1   Agency Type           48260 non-null  object \n",
            " 2   Distribution Channel  48260 non-null  object \n",
            " 3   Product Name          48260 non-null  object \n",
            " 4   Duration              48260 non-null  int64  \n",
            " 5   Destination           48260 non-null  object \n",
            " 6   Net Sales             48260 non-null  float64\n",
            " 7   Commision (in value)  48260 non-null  float64\n",
            " 8   Gender                13899 non-null  object \n",
            " 9   Age                   48260 non-null  int64  \n",
            " 10  Claim                 48260 non-null  int64  \n",
            "dtypes: float64(2), int64(3), object(6)\n",
            "memory usage: 4.1+ MB\n"
          ],
          "name": "stdout"
        }
      ]
    },
    {
      "cell_type": "code",
      "metadata": {
        "colab": {
          "base_uri": "https://localhost:8080/",
          "height": 297
        },
        "id": "5TO8dR1F1k63",
        "outputId": "0926d5d8-23c7-48f6-8cea-ed4109fa38d4"
      },
      "source": [
        "#there are 5 numerical columns from the data\r\n",
        "insurance_data.describe()"
      ],
      "execution_count": 6,
      "outputs": [
        {
          "output_type": "execute_result",
          "data": {
            "text/html": [
              "<div>\n",
              "<style scoped>\n",
              "    .dataframe tbody tr th:only-of-type {\n",
              "        vertical-align: middle;\n",
              "    }\n",
              "\n",
              "    .dataframe tbody tr th {\n",
              "        vertical-align: top;\n",
              "    }\n",
              "\n",
              "    .dataframe thead th {\n",
              "        text-align: right;\n",
              "    }\n",
              "</style>\n",
              "<table border=\"1\" class=\"dataframe\">\n",
              "  <thead>\n",
              "    <tr style=\"text-align: right;\">\n",
              "      <th></th>\n",
              "      <th>Duration</th>\n",
              "      <th>Net Sales</th>\n",
              "      <th>Commision (in value)</th>\n",
              "      <th>Age</th>\n",
              "      <th>Claim</th>\n",
              "    </tr>\n",
              "  </thead>\n",
              "  <tbody>\n",
              "    <tr>\n",
              "      <th>count</th>\n",
              "      <td>48260.000000</td>\n",
              "      <td>48260.000000</td>\n",
              "      <td>48260.000000</td>\n",
              "      <td>48260.000000</td>\n",
              "      <td>48260.000000</td>\n",
              "    </tr>\n",
              "    <tr>\n",
              "      <th>mean</th>\n",
              "      <td>49.546602</td>\n",
              "      <td>40.747647</td>\n",
              "      <td>9.811735</td>\n",
              "      <td>39.927269</td>\n",
              "      <td>0.014671</td>\n",
              "    </tr>\n",
              "    <tr>\n",
              "      <th>std</th>\n",
              "      <td>104.828147</td>\n",
              "      <td>48.823217</td>\n",
              "      <td>19.695339</td>\n",
              "      <td>14.027329</td>\n",
              "      <td>0.120231</td>\n",
              "    </tr>\n",
              "    <tr>\n",
              "      <th>min</th>\n",
              "      <td>-2.000000</td>\n",
              "      <td>-389.000000</td>\n",
              "      <td>0.000000</td>\n",
              "      <td>0.000000</td>\n",
              "      <td>0.000000</td>\n",
              "    </tr>\n",
              "    <tr>\n",
              "      <th>25%</th>\n",
              "      <td>9.000000</td>\n",
              "      <td>18.000000</td>\n",
              "      <td>0.000000</td>\n",
              "      <td>35.000000</td>\n",
              "      <td>0.000000</td>\n",
              "    </tr>\n",
              "    <tr>\n",
              "      <th>50%</th>\n",
              "      <td>22.000000</td>\n",
              "      <td>27.000000</td>\n",
              "      <td>0.000000</td>\n",
              "      <td>36.000000</td>\n",
              "      <td>0.000000</td>\n",
              "    </tr>\n",
              "    <tr>\n",
              "      <th>75%</th>\n",
              "      <td>53.000000</td>\n",
              "      <td>48.000000</td>\n",
              "      <td>11.630000</td>\n",
              "      <td>43.000000</td>\n",
              "      <td>0.000000</td>\n",
              "    </tr>\n",
              "    <tr>\n",
              "      <th>max</th>\n",
              "      <td>4881.000000</td>\n",
              "      <td>666.000000</td>\n",
              "      <td>262.760000</td>\n",
              "      <td>118.000000</td>\n",
              "      <td>1.000000</td>\n",
              "    </tr>\n",
              "  </tbody>\n",
              "</table>\n",
              "</div>"
            ],
            "text/plain": [
              "           Duration     Net Sales  ...           Age         Claim\n",
              "count  48260.000000  48260.000000  ...  48260.000000  48260.000000\n",
              "mean      49.546602     40.747647  ...     39.927269      0.014671\n",
              "std      104.828147     48.823217  ...     14.027329      0.120231\n",
              "min       -2.000000   -389.000000  ...      0.000000      0.000000\n",
              "25%        9.000000     18.000000  ...     35.000000      0.000000\n",
              "50%       22.000000     27.000000  ...     36.000000      0.000000\n",
              "75%       53.000000     48.000000  ...     43.000000      0.000000\n",
              "max     4881.000000    666.000000  ...    118.000000      1.000000\n",
              "\n",
              "[8 rows x 5 columns]"
            ]
          },
          "metadata": {
            "tags": []
          },
          "execution_count": 6
        }
      ]
    },
    {
      "cell_type": "code",
      "metadata": {
        "colab": {
          "base_uri": "https://localhost:8080/"
        },
        "id": "Rt1SxFwX1mPF",
        "outputId": "82915ecf-762d-4996-d620-ef9c3d521cd1"
      },
      "source": [
        "#check out number of missing value\r\n",
        "train_missval_col = (insurance_data.isnull().sum())\r\n",
        "train_missval_col"
      ],
      "execution_count": 7,
      "outputs": [
        {
          "output_type": "execute_result",
          "data": {
            "text/plain": [
              "Agency                      0\n",
              "Agency Type                 0\n",
              "Distribution Channel        0\n",
              "Product Name                0\n",
              "Duration                    0\n",
              "Destination                 0\n",
              "Net Sales                   0\n",
              "Commision (in value)        0\n",
              "Gender                  34361\n",
              "Age                         0\n",
              "Claim                       0\n",
              "dtype: int64"
            ]
          },
          "metadata": {
            "tags": []
          },
          "execution_count": 7
        }
      ]
    },
    {
      "cell_type": "code",
      "metadata": {
        "colab": {
          "base_uri": "https://localhost:8080/"
        },
        "id": "Uep9YKJ42OmZ",
        "outputId": "cdbe4abd-99d5-4356-9429-4a5c9d42208f"
      },
      "source": [
        "#checkout distribution of data in the column which has missing value\r\n",
        "insurance_data.Gender.value_counts()"
      ],
      "execution_count": 8,
      "outputs": [
        {
          "output_type": "execute_result",
          "data": {
            "text/plain": [
              "M    7137\n",
              "F    6762\n",
              "Name: Gender, dtype: int64"
            ]
          },
          "metadata": {
            "tags": []
          },
          "execution_count": 8
        }
      ]
    },
    {
      "cell_type": "code",
      "metadata": {
        "colab": {
          "base_uri": "https://localhost:8080/"
        },
        "id": "UrB_Xr-02r8s",
        "outputId": "b43f07ca-681b-49a5-cbb3-f5c487617bcc"
      },
      "source": [
        "#list all the object columns\r\n",
        "index_object = insurance_data.select_dtypes(include='object').columns\r\n",
        "print(index_object)"
      ],
      "execution_count": 11,
      "outputs": [
        {
          "output_type": "stream",
          "text": [
            "Index(['Agency', 'Agency Type', 'Distribution Channel', 'Product Name',\n",
            "       'Destination', 'Gender'],\n",
            "      dtype='object')\n"
          ],
          "name": "stdout"
        }
      ]
    },
    {
      "cell_type": "code",
      "metadata": {
        "colab": {
          "base_uri": "https://localhost:8080/"
        },
        "id": "FXmrebcImhqn",
        "outputId": "f6c4546b-aea9-4cba-8dd7-ca492f55c0e2"
      },
      "source": [
        "#list all the numerical columns\r\n",
        "n_column = insurance_data.columns\r\n",
        "n_column"
      ],
      "execution_count": 9,
      "outputs": [
        {
          "output_type": "execute_result",
          "data": {
            "text/plain": [
              "Index(['Agency', 'Agency Type', 'Distribution Channel', 'Product Name',\n",
              "       'Duration', 'Destination', 'Net Sales', 'Commision (in value)',\n",
              "       'Gender', 'Age', 'Claim'],\n",
              "      dtype='object')"
            ]
          },
          "metadata": {
            "tags": []
          },
          "execution_count": 9
        }
      ]
    },
    {
      "cell_type": "code",
      "metadata": {
        "colab": {
          "base_uri": "https://localhost:8080/"
        },
        "id": "02f7vZdu4Mc2",
        "outputId": "1567834b-ba21-48b3-c83e-2ccc1f3390f8"
      },
      "source": [
        "#list all distribution of each columns\r\n",
        "def columns_distinct(df, index_object):\r\n",
        "  for col in index_object:\r\n",
        "    a = df[col][df[col]=='unknown'].count()\r\n",
        "    print(col, df[col].nunique())\r\n",
        "    print('{:s} : {:.0%}'.format(col, a/45211))\r\n",
        "    print(df[col].value_counts())\r\n",
        "    \r\n",
        "    print(\" \")\r\n",
        "\r\n",
        "columns_distinct(insurance_data, index_object)"
      ],
      "execution_count": 12,
      "outputs": [
        {
          "output_type": "stream",
          "text": [
            "Agency 16\n",
            "Agency : 0%\n",
            "EPX    26712\n",
            "CWT     6572\n",
            "C2B     6280\n",
            "JZI     4851\n",
            "SSI      807\n",
            "JWT      580\n",
            "RAB      577\n",
            "LWC      532\n",
            "TST      389\n",
            "KML      293\n",
            "ART      248\n",
            "CCR      155\n",
            "TTW       72\n",
            "CBH       70\n",
            "CSR       66\n",
            "ADM       56\n",
            "Name: Agency, dtype: int64\n",
            " \n",
            "Agency Type 2\n",
            "Agency Type : 0%\n",
            "Travel Agency    34917\n",
            "Airlines         13343\n",
            "Name: Agency Type, dtype: int64\n",
            " \n",
            "Distribution Channel 2\n",
            "Distribution Channel : 0%\n",
            "Online     47434\n",
            "Offline      826\n",
            "Name: Distribution Channel, dtype: int64\n",
            " \n",
            "Product Name 26\n",
            "Product Name : 0%\n",
            "Cancellation Plan                       14202\n",
            "2 way Comprehensive Plan                10000\n",
            "Rental Vehicle Excess Insurance          6572\n",
            "Basic Plan                               4209\n",
            "Bronze Plan                              3057\n",
            "1 way Comprehensive Plan                 2510\n",
            "Value Plan                               2082\n",
            "Silver Plan                              1705\n",
            "Annual Silver Plan                       1088\n",
            "Ticket Protector                          807\n",
            "Travel Cruise Protect                     388\n",
            "Gold Plan                                 279\n",
            "Comprehensive Plan                        279\n",
            "24 Protect                                183\n",
            "Single Trip Travel Protect Gold           156\n",
            "Annual Gold Plan                          151\n",
            "Single Trip Travel Protect Silver         146\n",
            "Premier Plan                              143\n",
            "Annual Travel Protect Gold                 77\n",
            "Annual Travel Protect Silver               64\n",
            "Single Trip Travel Protect Platinum        53\n",
            "Individual Comprehensive Plan              53\n",
            "Annual Travel Protect Platinum             36\n",
            "Spouse or Parents Comprehensive Plan       12\n",
            "Child Comprehensive Plan                    7\n",
            "Travel Cruise Protect Family                1\n",
            "Name: Product Name, dtype: int64\n",
            " \n",
            "Destination 141\n",
            "Destination : 0%\n",
            "SINGAPORE          10068\n",
            "THAILAND            4509\n",
            "MALAYSIA            4479\n",
            "CHINA               3642\n",
            "AUSTRALIA           2807\n",
            "                   ...  \n",
            "SOLOMON ISLANDS        1\n",
            "SAMOA                  1\n",
            "ARMENIA                1\n",
            "GUATEMALA              1\n",
            "BARBADOS               1\n",
            "Name: Destination, Length: 141, dtype: int64\n",
            " \n",
            "Gender 2\n",
            "Gender : 0%\n",
            "M    7137\n",
            "F    6762\n",
            "Name: Gender, dtype: int64\n",
            " \n"
          ],
          "name": "stdout"
        }
      ]
    },
    {
      "cell_type": "code",
      "metadata": {
        "id": "_eksR7yHmRXs"
      },
      "source": [
        "#notice that there is a similar value, which can be categorized as one in the product name: Travel Cruise Protect Family with Travel Cruise Protect\r\n",
        "insurance_data.loc[insurance_data['Product Name'] == 'Travel Cruise Protect Family', 'Product Name'] = 'Travel Cruise Protect'"
      ],
      "execution_count": 13,
      "outputs": []
    },
    {
      "cell_type": "code",
      "metadata": {
        "colab": {
          "base_uri": "https://localhost:8080/"
        },
        "id": "WjdpVVJb4h36",
        "outputId": "9410d835-6e74-449b-be1e-9a9530997891"
      },
      "source": [
        "#check correlation between gender and other factor\r\n",
        "#first filter gender\r\n",
        "filter_gender = insurance_data.drop(columns = 'Gender', axis = 1)\r\n",
        "filter_gender.shape"
      ],
      "execution_count": 14,
      "outputs": [
        {
          "output_type": "execute_result",
          "data": {
            "text/plain": [
              "(48260, 10)"
            ]
          },
          "metadata": {
            "tags": []
          },
          "execution_count": 14
        }
      ]
    },
    {
      "cell_type": "code",
      "metadata": {
        "colab": {
          "base_uri": "https://localhost:8080/",
          "height": 204
        },
        "id": "xUwpOs5Ceuth",
        "outputId": "8cb198c4-74d6-4aa9-c13b-9579e9d070c0"
      },
      "source": [
        "filter_gender.head()"
      ],
      "execution_count": 15,
      "outputs": [
        {
          "output_type": "execute_result",
          "data": {
            "text/html": [
              "<div>\n",
              "<style scoped>\n",
              "    .dataframe tbody tr th:only-of-type {\n",
              "        vertical-align: middle;\n",
              "    }\n",
              "\n",
              "    .dataframe tbody tr th {\n",
              "        vertical-align: top;\n",
              "    }\n",
              "\n",
              "    .dataframe thead th {\n",
              "        text-align: right;\n",
              "    }\n",
              "</style>\n",
              "<table border=\"1\" class=\"dataframe\">\n",
              "  <thead>\n",
              "    <tr style=\"text-align: right;\">\n",
              "      <th></th>\n",
              "      <th>Agency</th>\n",
              "      <th>Agency Type</th>\n",
              "      <th>Distribution Channel</th>\n",
              "      <th>Product Name</th>\n",
              "      <th>Duration</th>\n",
              "      <th>Destination</th>\n",
              "      <th>Net Sales</th>\n",
              "      <th>Commision (in value)</th>\n",
              "      <th>Age</th>\n",
              "      <th>Claim</th>\n",
              "    </tr>\n",
              "  </thead>\n",
              "  <tbody>\n",
              "    <tr>\n",
              "      <th>0</th>\n",
              "      <td>CWT</td>\n",
              "      <td>Travel Agency</td>\n",
              "      <td>Online</td>\n",
              "      <td>Rental Vehicle Excess Insurance</td>\n",
              "      <td>61</td>\n",
              "      <td>UNITED KINGDOM</td>\n",
              "      <td>19.8</td>\n",
              "      <td>11.88</td>\n",
              "      <td>29</td>\n",
              "      <td>0</td>\n",
              "    </tr>\n",
              "    <tr>\n",
              "      <th>1</th>\n",
              "      <td>EPX</td>\n",
              "      <td>Travel Agency</td>\n",
              "      <td>Online</td>\n",
              "      <td>Cancellation Plan</td>\n",
              "      <td>93</td>\n",
              "      <td>NEW ZEALAND</td>\n",
              "      <td>63.0</td>\n",
              "      <td>0.00</td>\n",
              "      <td>36</td>\n",
              "      <td>0</td>\n",
              "    </tr>\n",
              "    <tr>\n",
              "      <th>2</th>\n",
              "      <td>EPX</td>\n",
              "      <td>Travel Agency</td>\n",
              "      <td>Online</td>\n",
              "      <td>2 way Comprehensive Plan</td>\n",
              "      <td>22</td>\n",
              "      <td>UNITED STATES</td>\n",
              "      <td>22.0</td>\n",
              "      <td>0.00</td>\n",
              "      <td>25</td>\n",
              "      <td>0</td>\n",
              "    </tr>\n",
              "    <tr>\n",
              "      <th>3</th>\n",
              "      <td>C2B</td>\n",
              "      <td>Airlines</td>\n",
              "      <td>Online</td>\n",
              "      <td>Silver Plan</td>\n",
              "      <td>14</td>\n",
              "      <td>SINGAPORE</td>\n",
              "      <td>54.5</td>\n",
              "      <td>13.63</td>\n",
              "      <td>24</td>\n",
              "      <td>0</td>\n",
              "    </tr>\n",
              "    <tr>\n",
              "      <th>4</th>\n",
              "      <td>EPX</td>\n",
              "      <td>Travel Agency</td>\n",
              "      <td>Online</td>\n",
              "      <td>Cancellation Plan</td>\n",
              "      <td>90</td>\n",
              "      <td>VIET NAM</td>\n",
              "      <td>10.0</td>\n",
              "      <td>0.00</td>\n",
              "      <td>23</td>\n",
              "      <td>0</td>\n",
              "    </tr>\n",
              "  </tbody>\n",
              "</table>\n",
              "</div>"
            ],
            "text/plain": [
              "  Agency    Agency Type Distribution Channel  ... Commision (in value)  Age Claim\n",
              "0    CWT  Travel Agency               Online  ...                11.88   29     0\n",
              "1    EPX  Travel Agency               Online  ...                 0.00   36     0\n",
              "2    EPX  Travel Agency               Online  ...                 0.00   25     0\n",
              "3    C2B       Airlines               Online  ...                13.63   24     0\n",
              "4    EPX  Travel Agency               Online  ...                 0.00   23     0\n",
              "\n",
              "[5 rows x 10 columns]"
            ]
          },
          "metadata": {
            "tags": []
          },
          "execution_count": 15
        }
      ]
    },
    {
      "cell_type": "code",
      "metadata": {
        "colab": {
          "base_uri": "https://localhost:8080/",
          "height": 386
        },
        "id": "7JC-xMJLVbNR",
        "outputId": "78d775b9-d508-4d9e-965a-d57ae9625d6e"
      },
      "source": [
        "sns.displot(insurance_data['Duration'])"
      ],
      "execution_count": 18,
      "outputs": [
        {
          "output_type": "execute_result",
          "data": {
            "text/plain": [
              "<seaborn.axisgrid.FacetGrid at 0x7feaa36f7d68>"
            ]
          },
          "metadata": {
            "tags": []
          },
          "execution_count": 18
        },
        {
          "output_type": "display_data",
          "data": {
            "image/png": "[encoded data removed]",
            "text/plain": [
              "<Figure size 360x360 with 1 Axes>"
            ]
          },
          "metadata": {
            "tags": [],
            "needs_background": "light"
          }
        }
      ]
    },
    {
      "cell_type": "markdown",
      "metadata": {
        "id": "5S88TaD9qY1y"
      },
      "source": [
        "# Correlation of categorical variables"
      ]
    },
    {
      "cell_type": "code",
      "metadata": {
        "colab": {
          "base_uri": "https://localhost:8080/",
          "height": 382
        },
        "id": "isl-Cm_Sd_P9",
        "outputId": "41ebe3f7-4e71-42ad-d0b2-ca511c7b3b74"
      },
      "source": [
        "import seaborn as sns\r\n",
        "\r\n",
        "data_corr_matrix = filter_gender.corr()\r\n",
        "sns.heatmap(data=data_corr_matrix, annot=True)"
      ],
      "execution_count": 19,
      "outputs": [
        {
          "output_type": "execute_result",
          "data": {
            "text/plain": [
              "<matplotlib.axes._subplots.AxesSubplot at 0x7fea9f744240>"
            ]
          },
          "metadata": {
            "tags": []
          },
          "execution_count": 19
        },
        {
          "output_type": "display_data",
          "data": {
            "image/png": "[encoded data removed]",
            "text/plain": [
              "<Figure size 432x288 with 2 Axes>"
            ]
          },
          "metadata": {
            "tags": [],
            "needs_background": "light"
          }
        }
      ]
    },
    {
      "cell_type": "code",
      "metadata": {
        "colab": {
          "base_uri": "https://localhost:8080/"
        },
        "id": "G0Vu7TBypEnA",
        "outputId": "ecfb3864-9fc8-46b7-f5a0-2ebfb2265ab7"
      },
      "source": [
        "#sort variables which have high correlation with target variable (Claim)\r\n",
        "data_corr_matrix['Claim'].sort_values(ascending=False)"
      ],
      "execution_count": 20,
      "outputs": [
        {
          "output_type": "execute_result",
          "data": {
            "text/plain": [
              "Claim                   1.000000\n",
              "Net Sales               0.137079\n",
              "Commision (in value)    0.098935\n",
              "Duration                0.073068\n",
              "Age                    -0.010401\n",
              "Name: Claim, dtype: float64"
            ]
          },
          "metadata": {
            "tags": []
          },
          "execution_count": 20
        }
      ]
    },
    {
      "cell_type": "code",
      "metadata": {
        "id": "ImBdckMzTuP-"
      },
      "source": [
        "#del insurance_data['Gender'] since it has majority of missing value\r\n",
        "train_data = insurance_data[['Agency Type', 'Age', 'Product Name',\r\n",
        "       'Net Sales','Commision (in value)', 'Claim', 'Distribution Channel', 'Agency', 'Duration']]"
      ],
      "execution_count": 21,
      "outputs": []
    },
    {
      "cell_type": "code",
      "metadata": {
        "colab": {
          "base_uri": "https://localhost:8080/",
          "height": 306
        },
        "id": "2L7Yy0XsTFFz",
        "outputId": "4597a949-5991-4730-b9a0-09803f106169"
      },
      "source": [
        "#label encoding for Product Name since it has >25 unique value, and will be easily calculated using label encode\r\n",
        "from sklearn.preprocessing import LabelEncoder\r\n",
        "le = LabelEncoder()\r\n",
        "#train_data['Agency'] = le.fit_transform(train_data['Agency'])\r\n",
        "#train_data['Agency Type'] = le.fit_transform(train_data['Agency Type'])\r\n",
        "#train_data['Distribution Channel'] = le.fit_transform(train_data['Distribution Channel'])\r\n",
        "train_data['Product Name'] = le.fit_transform(train_data['Product Name'])\r\n",
        "#train_data['Destination'] = le.fit_transform(train_data['Destination'])\r\n",
        "train_data.head()"
      ],
      "execution_count": 22,
      "outputs": [
        {
          "output_type": "stream",
          "text": [
            "/usr/local/lib/python3.6/dist-packages/ipykernel_launcher.py:7: SettingWithCopyWarning: \n",
            "A value is trying to be set on a copy of a slice from a DataFrame.\n",
            "Try using .loc[row_indexer,col_indexer] = value instead\n",
            "\n",
            "See the caveats in the documentation: https://pandas.pydata.org/pandas-docs/stable/user_guide/indexing.html#returning-a-view-versus-a-copy\n",
            "  import sys\n"
          ],
          "name": "stderr"
        },
        {
          "output_type": "execute_result",
          "data": {
            "text/html": [
              "<div>\n",
              "<style scoped>\n",
              "    .dataframe tbody tr th:only-of-type {\n",
              "        vertical-align: middle;\n",
              "    }\n",
              "\n",
              "    .dataframe tbody tr th {\n",
              "        vertical-align: top;\n",
              "    }\n",
              "\n",
              "    .dataframe thead th {\n",
              "        text-align: right;\n",
              "    }\n",
              "</style>\n",
              "<table border=\"1\" class=\"dataframe\">\n",
              "  <thead>\n",
              "    <tr style=\"text-align: right;\">\n",
              "      <th></th>\n",
              "      <th>Agency Type</th>\n",
              "      <th>Age</th>\n",
              "      <th>Product Name</th>\n",
              "      <th>Net Sales</th>\n",
              "      <th>Commision (in value)</th>\n",
              "      <th>Claim</th>\n",
              "      <th>Distribution Channel</th>\n",
              "      <th>Agency</th>\n",
              "      <th>Duration</th>\n",
              "    </tr>\n",
              "  </thead>\n",
              "  <tbody>\n",
              "    <tr>\n",
              "      <th>0</th>\n",
              "      <td>Travel Agency</td>\n",
              "      <td>29</td>\n",
              "      <td>16</td>\n",
              "      <td>19.8</td>\n",
              "      <td>11.88</td>\n",
              "      <td>0</td>\n",
              "      <td>Online</td>\n",
              "      <td>CWT</td>\n",
              "      <td>61</td>\n",
              "    </tr>\n",
              "    <tr>\n",
              "      <th>1</th>\n",
              "      <td>Travel Agency</td>\n",
              "      <td>36</td>\n",
              "      <td>10</td>\n",
              "      <td>63.0</td>\n",
              "      <td>0.00</td>\n",
              "      <td>0</td>\n",
              "      <td>Online</td>\n",
              "      <td>EPX</td>\n",
              "      <td>93</td>\n",
              "    </tr>\n",
              "    <tr>\n",
              "      <th>2</th>\n",
              "      <td>Travel Agency</td>\n",
              "      <td>25</td>\n",
              "      <td>1</td>\n",
              "      <td>22.0</td>\n",
              "      <td>0.00</td>\n",
              "      <td>0</td>\n",
              "      <td>Online</td>\n",
              "      <td>EPX</td>\n",
              "      <td>22</td>\n",
              "    </tr>\n",
              "    <tr>\n",
              "      <th>3</th>\n",
              "      <td>Airlines</td>\n",
              "      <td>24</td>\n",
              "      <td>17</td>\n",
              "      <td>54.5</td>\n",
              "      <td>13.63</td>\n",
              "      <td>0</td>\n",
              "      <td>Online</td>\n",
              "      <td>C2B</td>\n",
              "      <td>14</td>\n",
              "    </tr>\n",
              "    <tr>\n",
              "      <th>4</th>\n",
              "      <td>Travel Agency</td>\n",
              "      <td>23</td>\n",
              "      <td>10</td>\n",
              "      <td>10.0</td>\n",
              "      <td>0.00</td>\n",
              "      <td>0</td>\n",
              "      <td>Online</td>\n",
              "      <td>EPX</td>\n",
              "      <td>90</td>\n",
              "    </tr>\n",
              "  </tbody>\n",
              "</table>\n",
              "</div>"
            ],
            "text/plain": [
              "     Agency Type  Age  Product Name  ...  Distribution Channel  Agency  Duration\n",
              "0  Travel Agency   29            16  ...                Online     CWT        61\n",
              "1  Travel Agency   36            10  ...                Online     EPX        93\n",
              "2  Travel Agency   25             1  ...                Online     EPX        22\n",
              "3       Airlines   24            17  ...                Online     C2B        14\n",
              "4  Travel Agency   23            10  ...                Online     EPX        90\n",
              "\n",
              "[5 rows x 9 columns]"
            ]
          },
          "metadata": {
            "tags": []
          },
          "execution_count": 22
        }
      ]
    },
    {
      "cell_type": "code",
      "metadata": {
        "id": "R4aUJQuRS22G"
      },
      "source": [
        "#from scipy.stats import chisquare\r\n",
        "\r\n",
        "#data_corr_cat=train_data.apply(lambda x : pd.factorize(x)[0])+1\r\n",
        "\r\n",
        "#pd.DataFrame([chisquare(train_data[x].values,f_exp=train_data.values.T,axis=1)[0] for x in train_data])"
      ],
      "execution_count": 24,
      "outputs": []
    },
    {
      "cell_type": "code",
      "metadata": {
        "id": "GXAdoRCSUmB3"
      },
      "source": [
        "#plot pearson correlation for train data\r\n",
        "corr_pearson = train_data.apply(lambda x : pd.factorize(x)[0]).corr(method='pearson', min_periods=1)"
      ],
      "execution_count": 25,
      "outputs": []
    },
    {
      "cell_type": "code",
      "metadata": {
        "colab": {
          "base_uri": "https://localhost:8080/",
          "height": 382
        },
        "id": "MpqgmTVdTDmb",
        "outputId": "6501fb17-8ca3-4e24-88ff-4a85cbabc505"
      },
      "source": [
        "import seaborn as sns\r\n",
        "sns.heatmap(data=corr_pearson, annot=True)"
      ],
      "execution_count": 26,
      "outputs": [
        {
          "output_type": "execute_result",
          "data": {
            "text/plain": [
              "<matplotlib.axes._subplots.AxesSubplot at 0x7fea9c92ce10>"
            ]
          },
          "metadata": {
            "tags": []
          },
          "execution_count": 26
        },
        {
          "output_type": "display_data",
          "data": {
            "image/png": "[encoded data removed]",
            "text/plain": [
              "<Figure size 432x288 with 2 Axes>"
            ]
          },
          "metadata": {
            "tags": [],
            "needs_background": "light"
          }
        }
      ]
    },
    {
      "cell_type": "code",
      "metadata": {
        "id": "WiLrdeRDwEgi"
      },
      "source": [
        "'''bins = [10, 20, 30, 40, 50, 60, 70, 80, 90, 100, 110, 120]\r\n",
        "group_names = ['0-9', '10-19', '20-29', '30-39', '40-49', '50-59', '60-69', '70-79', '80-89', '90-99', '100-109', '110-120']\r\n",
        "age_categories = pd.cut(train['age'], bins, labels=group_names)\r\n",
        "train['age_categories'] = pd.cut(train['age'], bins, labels=group_names)\r\n",
        "age_categories\r\n",
        "pd.value_counts(train['age_categories'])'''"
      ],
      "execution_count": null,
      "outputs": []
    },
    {
      "cell_type": "code",
      "metadata": {
        "id": "Zm4yb7yaw7gk"
      },
      "source": [
        "plt.hist(insurance_data['Age'], bins = 10)"
      ],
      "execution_count": null,
      "outputs": []
    },
    {
      "cell_type": "code",
      "metadata": {
        "id": "eXztfbgvf_5q"
      },
      "source": [
        "#from analysis above, we can say that no correlation related to gender.\r\n",
        "#therefore, we delete it\r\n",
        "del insurance_data['Gender']"
      ],
      "execution_count": 27,
      "outputs": []
    },
    {
      "cell_type": "code",
      "metadata": {
        "colab": {
          "base_uri": "https://localhost:8080/",
          "height": 204
        },
        "id": "5wqO6rtrilNt",
        "outputId": "78563f79-bc81-4c1a-d31d-5a4d36012c0c"
      },
      "source": [
        "insurance_data.head()"
      ],
      "execution_count": 28,
      "outputs": [
        {
          "output_type": "execute_result",
          "data": {
            "text/html": [
              "<div>\n",
              "<style scoped>\n",
              "    .dataframe tbody tr th:only-of-type {\n",
              "        vertical-align: middle;\n",
              "    }\n",
              "\n",
              "    .dataframe tbody tr th {\n",
              "        vertical-align: top;\n",
              "    }\n",
              "\n",
              "    .dataframe thead th {\n",
              "        text-align: right;\n",
              "    }\n",
              "</style>\n",
              "<table border=\"1\" class=\"dataframe\">\n",
              "  <thead>\n",
              "    <tr style=\"text-align: right;\">\n",
              "      <th></th>\n",
              "      <th>Agency</th>\n",
              "      <th>Agency Type</th>\n",
              "      <th>Distribution Channel</th>\n",
              "      <th>Product Name</th>\n",
              "      <th>Duration</th>\n",
              "      <th>Destination</th>\n",
              "      <th>Net Sales</th>\n",
              "      <th>Commision (in value)</th>\n",
              "      <th>Age</th>\n",
              "      <th>Claim</th>\n",
              "    </tr>\n",
              "  </thead>\n",
              "  <tbody>\n",
              "    <tr>\n",
              "      <th>0</th>\n",
              "      <td>CWT</td>\n",
              "      <td>Travel Agency</td>\n",
              "      <td>Online</td>\n",
              "      <td>Rental Vehicle Excess Insurance</td>\n",
              "      <td>61</td>\n",
              "      <td>UNITED KINGDOM</td>\n",
              "      <td>19.8</td>\n",
              "      <td>11.88</td>\n",
              "      <td>29</td>\n",
              "      <td>0</td>\n",
              "    </tr>\n",
              "    <tr>\n",
              "      <th>1</th>\n",
              "      <td>EPX</td>\n",
              "      <td>Travel Agency</td>\n",
              "      <td>Online</td>\n",
              "      <td>Cancellation Plan</td>\n",
              "      <td>93</td>\n",
              "      <td>NEW ZEALAND</td>\n",
              "      <td>63.0</td>\n",
              "      <td>0.00</td>\n",
              "      <td>36</td>\n",
              "      <td>0</td>\n",
              "    </tr>\n",
              "    <tr>\n",
              "      <th>2</th>\n",
              "      <td>EPX</td>\n",
              "      <td>Travel Agency</td>\n",
              "      <td>Online</td>\n",
              "      <td>2 way Comprehensive Plan</td>\n",
              "      <td>22</td>\n",
              "      <td>UNITED STATES</td>\n",
              "      <td>22.0</td>\n",
              "      <td>0.00</td>\n",
              "      <td>25</td>\n",
              "      <td>0</td>\n",
              "    </tr>\n",
              "    <tr>\n",
              "      <th>3</th>\n",
              "      <td>C2B</td>\n",
              "      <td>Airlines</td>\n",
              "      <td>Online</td>\n",
              "      <td>Silver Plan</td>\n",
              "      <td>14</td>\n",
              "      <td>SINGAPORE</td>\n",
              "      <td>54.5</td>\n",
              "      <td>13.63</td>\n",
              "      <td>24</td>\n",
              "      <td>0</td>\n",
              "    </tr>\n",
              "    <tr>\n",
              "      <th>4</th>\n",
              "      <td>EPX</td>\n",
              "      <td>Travel Agency</td>\n",
              "      <td>Online</td>\n",
              "      <td>Cancellation Plan</td>\n",
              "      <td>90</td>\n",
              "      <td>VIET NAM</td>\n",
              "      <td>10.0</td>\n",
              "      <td>0.00</td>\n",
              "      <td>23</td>\n",
              "      <td>0</td>\n",
              "    </tr>\n",
              "  </tbody>\n",
              "</table>\n",
              "</div>"
            ],
            "text/plain": [
              "  Agency    Agency Type Distribution Channel  ... Commision (in value)  Age Claim\n",
              "0    CWT  Travel Agency               Online  ...                11.88   29     0\n",
              "1    EPX  Travel Agency               Online  ...                 0.00   36     0\n",
              "2    EPX  Travel Agency               Online  ...                 0.00   25     0\n",
              "3    C2B       Airlines               Online  ...                13.63   24     0\n",
              "4    EPX  Travel Agency               Online  ...                 0.00   23     0\n",
              "\n",
              "[5 rows x 10 columns]"
            ]
          },
          "metadata": {
            "tags": []
          },
          "execution_count": 28
        }
      ]
    },
    {
      "cell_type": "code",
      "metadata": {
        "colab": {
          "base_uri": "https://localhost:8080/",
          "height": 382
        },
        "id": "iTn9AcTUioht",
        "outputId": "51260391-161c-444b-a0c6-7634494c428b"
      },
      "source": [
        "import seaborn as sns\r\n",
        "\r\n",
        "data_corr_matrix = insurance_data.corr()\r\n",
        "sns.heatmap(data=data_corr_matrix, annot=True)"
      ],
      "execution_count": 29,
      "outputs": [
        {
          "output_type": "execute_result",
          "data": {
            "text/plain": [
              "<matplotlib.axes._subplots.AxesSubplot at 0x7fea9c77eb38>"
            ]
          },
          "metadata": {
            "tags": []
          },
          "execution_count": 29
        },
        {
          "output_type": "display_data",
          "data": {
            "image/png": "[encoded data removed]",
            "text/plain": [
              "<Figure size 432x288 with 2 Axes>"
            ]
          },
          "metadata": {
            "tags": [],
            "needs_background": "light"
          }
        }
      ]
    },
    {
      "cell_type": "markdown",
      "metadata": {
        "id": "iHIsRrZqqcyN"
      },
      "source": [
        "# Initialize model"
      ]
    },
    {
      "cell_type": "code",
      "metadata": {
        "id": "95heYk8ki2NE"
      },
      "source": [
        "#two variables: \r\n",
        "data_final = insurance_data.filter(['Agency','Duration','Net Sales','Commision (in value)', 'Claim', 'Agency Type', 'Distribution Channel','Age', 'Product Name'], axis=1)"
      ],
      "execution_count": 30,
      "outputs": []
    },
    {
      "cell_type": "code",
      "metadata": {
        "id": "5yurugucmP_H"
      },
      "source": [
        "#one_hot_encoding for categorical variables\r\n",
        "ohe_final = pd.get_dummies(data_final, columns = ['Agency','Agency Type', 'Distribution Channel', 'Product Name'])"
      ],
      "execution_count": 31,
      "outputs": []
    },
    {
      "cell_type": "code",
      "metadata": {
        "colab": {
          "base_uri": "https://localhost:8080/"
        },
        "id": "5GGQnkmnmZH5",
        "outputId": "1abb4f88-0bf6-4058-a78f-7dd1ff1a2033"
      },
      "source": [
        "ohe_final.columns"
      ],
      "execution_count": 32,
      "outputs": [
        {
          "output_type": "execute_result",
          "data": {
            "text/plain": [
              "Index(['Duration', 'Net Sales', 'Commision (in value)', 'Claim', 'Age',\n",
              "       'Agency_ADM', 'Agency_ART', 'Agency_C2B', 'Agency_CBH', 'Agency_CCR',\n",
              "       'Agency_CSR', 'Agency_CWT', 'Agency_EPX', 'Agency_JWT', 'Agency_JZI',\n",
              "       'Agency_KML', 'Agency_LWC', 'Agency_RAB', 'Agency_SSI', 'Agency_TST',\n",
              "       'Agency_TTW', 'Agency Type_Airlines', 'Agency Type_Travel Agency',\n",
              "       'Distribution Channel_Offline', 'Distribution Channel_Online',\n",
              "       'Product Name_1 way Comprehensive Plan',\n",
              "       'Product Name_2 way Comprehensive Plan', 'Product Name_24 Protect',\n",
              "       'Product Name_Annual Gold Plan', 'Product Name_Annual Silver Plan',\n",
              "       'Product Name_Annual Travel Protect Gold',\n",
              "       'Product Name_Annual Travel Protect Platinum',\n",
              "       'Product Name_Annual Travel Protect Silver', 'Product Name_Basic Plan',\n",
              "       'Product Name_Bronze Plan', 'Product Name_Cancellation Plan',\n",
              "       'Product Name_Child Comprehensive Plan',\n",
              "       'Product Name_Comprehensive Plan', 'Product Name_Gold Plan',\n",
              "       'Product Name_Individual Comprehensive Plan',\n",
              "       'Product Name_Premier Plan',\n",
              "       'Product Name_Rental Vehicle Excess Insurance',\n",
              "       'Product Name_Silver Plan',\n",
              "       'Product Name_Single Trip Travel Protect Gold',\n",
              "       'Product Name_Single Trip Travel Protect Platinum',\n",
              "       'Product Name_Single Trip Travel Protect Silver',\n",
              "       'Product Name_Spouse or Parents Comprehensive Plan',\n",
              "       'Product Name_Ticket Protector', 'Product Name_Travel Cruise Protect',\n",
              "       'Product Name_Value Plan'],\n",
              "      dtype='object')"
            ]
          },
          "metadata": {
            "tags": []
          },
          "execution_count": 32
        }
      ]
    },
    {
      "cell_type": "code",
      "metadata": {
        "colab": {
          "base_uri": "https://localhost:8080/"
        },
        "id": "butlf64WmeGa",
        "outputId": "853c1daa-6069-484d-c053-6f0a077740b2"
      },
      "source": [
        "ohe_final.shape"
      ],
      "execution_count": 33,
      "outputs": [
        {
          "output_type": "execute_result",
          "data": {
            "text/plain": [
              "(48260, 50)"
            ]
          },
          "metadata": {
            "tags": []
          },
          "execution_count": 33
        }
      ]
    },
    {
      "cell_type": "code",
      "metadata": {
        "id": "SVYOKfFzmfqK"
      },
      "source": [
        "X = ohe_final.drop('Claim', axis = 1)\r\n",
        "y = ohe_final.Claim"
      ],
      "execution_count": 34,
      "outputs": []
    },
    {
      "cell_type": "code",
      "metadata": {
        "id": "HBKaH3Iqml1T"
      },
      "source": [
        "#apply train test split with stratify since it has class imbalance\r\n",
        "from sklearn.model_selection import train_test_split\r\n",
        "\r\n",
        "X_train, X_test, y_train, y_test = train_test_split(X, y, test_size = 0.2, random_state = 42, stratify = y)"
      ],
      "execution_count": 35,
      "outputs": []
    },
    {
      "cell_type": "code",
      "metadata": {
        "id": "FqVBpP7kCjV5"
      },
      "source": [
        "#perform xgboost classifier\r\n",
        "from xgboost import XGBClassifier\r\n",
        "\r\n",
        "\r\n",
        "xgb = XGBClassifier()\r\n",
        "xgb.fit(X_train, y_train)\r\n",
        "\r\n",
        "y_pred = xgb.predict(X_test)"
      ],
      "execution_count": 36,
      "outputs": []
    },
    {
      "cell_type": "code",
      "metadata": {
        "colab": {
          "base_uri": "https://localhost:8080/"
        },
        "id": "6-S4YfyGCvXB",
        "outputId": "a579efa6-9b13-43be-ed2c-889ce0bf3285"
      },
      "source": [
        "#check accuracy of the xgboost classifier report\r\n",
        "#notice f1 score is low, which is reasonable since it has class imbalance\r\n",
        "from sklearn.metrics import classification_report\r\n",
        "print(classification_report(y_test, y_pred))"
      ],
      "execution_count": 37,
      "outputs": [
        {
          "output_type": "stream",
          "text": [
            "              precision    recall  f1-score   support\n",
            "\n",
            "           0       0.99      1.00      0.99      9510\n",
            "           1       0.00      0.00      0.00       142\n",
            "\n",
            "    accuracy                           0.99      9652\n",
            "   macro avg       0.49      0.50      0.50      9652\n",
            "weighted avg       0.97      0.99      0.98      9652\n",
            "\n"
          ],
          "name": "stdout"
        },
        {
          "output_type": "stream",
          "text": [
            "/usr/local/lib/python3.6/dist-packages/sklearn/metrics/_classification.py:1272: UndefinedMetricWarning: Precision and F-score are ill-defined and being set to 0.0 in labels with no predicted samples. Use `zero_division` parameter to control this behavior.\n",
            "  _warn_prf(average, modifier, msg_start, len(result))\n"
          ],
          "name": "stderr"
        }
      ]
    },
    {
      "cell_type": "code",
      "metadata": {
        "colab": {
          "base_uri": "https://localhost:8080/"
        },
        "id": "Gy5zehP9DAbN",
        "outputId": "1917edd0-b94b-4094-baa6-37b78e304a6e"
      },
      "source": [
        "#check accuracy for the test data\r\n",
        "print(classification_report(y_pred, y_test))"
      ],
      "execution_count": 38,
      "outputs": [
        {
          "output_type": "stream",
          "text": [
            "              precision    recall  f1-score   support\n",
            "\n",
            "           0       1.00      0.99      0.99      9652\n",
            "           1       0.00      0.00      0.00         0\n",
            "\n",
            "    accuracy                           0.99      9652\n",
            "   macro avg       0.50      0.49      0.50      9652\n",
            "weighted avg       1.00      0.99      0.99      9652\n",
            "\n"
          ],
          "name": "stdout"
        },
        {
          "output_type": "stream",
          "text": [
            "/usr/local/lib/python3.6/dist-packages/sklearn/metrics/_classification.py:1272: UndefinedMetricWarning: Recall and F-score are ill-defined and being set to 0.0 in labels with no true samples. Use `zero_division` parameter to control this behavior.\n",
            "  _warn_prf(average, modifier, msg_start, len(result))\n"
          ],
          "name": "stderr"
        }
      ]
    },
    {
      "cell_type": "code",
      "metadata": {
        "id": "Mfo80N2rmrz7"
      },
      "source": [
        "from sklearn.metrics import classification_report"
      ],
      "execution_count": null,
      "outputs": []
    },
    {
      "cell_type": "code",
      "metadata": {
        "colab": {
          "base_uri": "https://localhost:8080/"
        },
        "id": "DjDpLMLlmr2X",
        "outputId": "b2aea5b2-91e7-4279-fed9-a6fa99c35d2a"
      },
      "source": [
        "#perform random forest classifier\r\n",
        "from sklearn.ensemble import RandomForestClassifier\r\n",
        "rfc = RandomForestClassifier()\r\n",
        "rfc.fit(X_train,y_train)\r\n",
        "y_pred = rfc.predict(X_test)\r\n",
        "print(classification_report(y_test,y_pred))"
      ],
      "execution_count": 39,
      "outputs": [
        {
          "output_type": "stream",
          "text": [
            "              precision    recall  f1-score   support\n",
            "\n",
            "           0       0.99      1.00      0.99      9510\n",
            "           1       0.14      0.04      0.06       142\n",
            "\n",
            "    accuracy                           0.98      9652\n",
            "   macro avg       0.56      0.52      0.52      9652\n",
            "weighted avg       0.97      0.98      0.98      9652\n",
            "\n"
          ],
          "name": "stdout"
        }
      ]
    },
    {
      "cell_type": "code",
      "metadata": {
        "colab": {
          "base_uri": "https://localhost:8080/",
          "height": 296
        },
        "id": "mD_UzppunHgC",
        "outputId": "68472acb-4e0f-4ee7-df89-8ccca17e41ed"
      },
      "source": [
        "#plot the confusion matrix\r\n",
        "from sklearn.metrics import plot_confusion_matrix\r\n",
        "plot_confusion_matrix(rfc,X_test,y_test)"
      ],
      "execution_count": 40,
      "outputs": [
        {
          "output_type": "execute_result",
          "data": {
            "text/plain": [
              "<sklearn.metrics._plot.confusion_matrix.ConfusionMatrixDisplay at 0x7fea8e60ae80>"
            ]
          },
          "metadata": {
            "tags": []
          },
          "execution_count": 40
        },
        {
          "output_type": "display_data",
          "data": {
            "image/png": "[encoded data removed]",
            "text/plain": [
              "<Figure size 432x288 with 2 Axes>"
            ]
          },
          "metadata": {
            "tags": [],
            "needs_background": "light"
          }
        }
      ]
    },
    {
      "cell_type": "code",
      "metadata": {
        "id": "gLduD6AtchWO"
      },
      "source": [
        ""
      ],
      "execution_count": null,
      "outputs": []
    },
    {
      "cell_type": "code",
      "metadata": {
        "id": "KcA8sAwNcmpr"
      },
      "source": [
        "#perform several other models\r\n",
        "from sklearn.linear_model import LogisticRegression\r\n",
        "from sklearn.tree import DecisionTreeClassifier\r\n",
        "from sklearn.neighbors import KNeighborsClassifier as KNN\r\n",
        "from sklearn.ensemble import VotingClassifier"
      ],
      "execution_count": 41,
      "outputs": []
    },
    {
      "cell_type": "code",
      "metadata": {
        "id": "yK1EVSU3coyo"
      },
      "source": [
        "SEED = 1\r\n",
        "X_train, X_test, y_train, y_test = train_test_split(X, y,\r\n",
        "test_size= 0.3,\r\n",
        "random_state= SEED)\r\n",
        "# Instantiate individual classifiers\r\n",
        "lr = LogisticRegression(random_state=SEED)\r\n",
        "knn = KNN()\r\n",
        "dt = DecisionTreeClassifier(random_state=SEED)\r\n",
        "# Define a list called classifier that contains the tuples (classifier_name, classifier)\r\n",
        "classifiers = [('Logistic Regression', lr),\r\n",
        "('K Nearest Neighbours', knn),\r\n",
        "('Classification Tree', dt)]"
      ],
      "execution_count": 42,
      "outputs": []
    },
    {
      "cell_type": "code",
      "metadata": {
        "colab": {
          "base_uri": "https://localhost:8080/"
        },
        "id": "pwgQNznOcvlR",
        "outputId": "4a6ad511-9b75-4551-9ace-8ca2cd5cee34"
      },
      "source": [
        "from sklearn.metrics import accuracy_score\r\n",
        "for clf_name, clf in classifiers:\r\n",
        "  #fit clf to the training set\r\n",
        "  clf.fit(X_train, y_train)\r\n",
        "  # Predict the labels of the test set\r\n",
        "  y_pred = clf.predict(X_test)\r\n",
        "  # Evaluate the accuracy of clf on the test set\r\n",
        "\r\n",
        "  print('{:s} : {:.3f}'.format(clf_name, accuracy_score(y_test, y_pred)))\r\n",
        "  print(classification_report(y_test, y_pred))"
      ],
      "execution_count": 43,
      "outputs": [
        {
          "output_type": "stream",
          "text": [
            "/usr/local/lib/python3.6/dist-packages/sklearn/linear_model/_logistic.py:940: ConvergenceWarning: lbfgs failed to converge (status=1):\n",
            "STOP: TOTAL NO. of ITERATIONS REACHED LIMIT.\n",
            "\n",
            "Increase the number of iterations (max_iter) or scale the data as shown in:\n",
            "    https://scikit-learn.org/stable/modules/preprocessing.html\n",
            "Please also refer to the documentation for alternative solver options:\n",
            "    https://scikit-learn.org/stable/modules/linear_model.html#logistic-regression\n",
            "  extra_warning_msg=_LOGISTIC_SOLVER_CONVERGENCE_MSG)\n",
            "/usr/local/lib/python3.6/dist-packages/sklearn/metrics/_classification.py:1272: UndefinedMetricWarning: Precision and F-score are ill-defined and being set to 0.0 in labels with no predicted samples. Use `zero_division` parameter to control this behavior.\n",
            "  _warn_prf(average, modifier, msg_start, len(result))\n"
          ],
          "name": "stderr"
        },
        {
          "output_type": "stream",
          "text": [
            "Logistic Regression : 0.985\n",
            "              precision    recall  f1-score   support\n",
            "\n",
            "           0       0.99      1.00      0.99     14262\n",
            "           1       0.00      0.00      0.00       216\n",
            "\n",
            "    accuracy                           0.99     14478\n",
            "   macro avg       0.49      0.50      0.50     14478\n",
            "weighted avg       0.97      0.99      0.98     14478\n",
            "\n",
            "K Nearest Neighbours : 0.985\n",
            "              precision    recall  f1-score   support\n",
            "\n",
            "           0       0.99      1.00      0.99     14262\n",
            "           1       0.18      0.01      0.02       216\n",
            "\n",
            "    accuracy                           0.98     14478\n",
            "   macro avg       0.58      0.50      0.50     14478\n",
            "weighted avg       0.97      0.98      0.98     14478\n",
            "\n",
            "Classification Tree : 0.969\n",
            "              precision    recall  f1-score   support\n",
            "\n",
            "           0       0.99      0.98      0.98     14262\n",
            "           1       0.05      0.06      0.06       216\n",
            "\n",
            "    accuracy                           0.97     14478\n",
            "   macro avg       0.52      0.52      0.52     14478\n",
            "weighted avg       0.97      0.97      0.97     14478\n",
            "\n"
          ],
          "name": "stdout"
        }
      ]
    },
    {
      "cell_type": "code",
      "metadata": {
        "colab": {
          "base_uri": "https://localhost:8080/"
        },
        "id": "9tDIkI2Hcvn7",
        "outputId": "792f0fa9-fb2b-44da-bcee-5aeef33a3b14"
      },
      "source": [
        "#check out X columns\r\n",
        "X.columns"
      ],
      "execution_count": null,
      "outputs": [
        {
          "output_type": "execute_result",
          "data": {
            "text/plain": [
              "Index(['Duration', 'Net Sales', 'Commision (in value)', 'Age',\n",
              "       'Agency Type_Airlines', 'Agency Type_Travel Agency',\n",
              "       'Distribution Channel_Offline', 'Distribution Channel_Online',\n",
              "       'Product Name_1 way Comprehensive Plan',\n",
              "       'Product Name_2 way Comprehensive Plan', 'Product Name_24 Protect',\n",
              "       'Product Name_Annual Gold Plan', 'Product Name_Annual Silver Plan',\n",
              "       'Product Name_Annual Travel Protect Gold',\n",
              "       'Product Name_Annual Travel Protect Platinum',\n",
              "       'Product Name_Annual Travel Protect Silver', 'Product Name_Basic Plan',\n",
              "       'Product Name_Bronze Plan', 'Product Name_Cancellation Plan',\n",
              "       'Product Name_Child Comprehensive Plan',\n",
              "       'Product Name_Comprehensive Plan', 'Product Name_Gold Plan',\n",
              "       'Product Name_Individual Comprehensive Plan',\n",
              "       'Product Name_Premier Plan',\n",
              "       'Product Name_Rental Vehicle Excess Insurance',\n",
              "       'Product Name_Silver Plan',\n",
              "       'Product Name_Single Trip Travel Protect Gold',\n",
              "       'Product Name_Single Trip Travel Protect Platinum',\n",
              "       'Product Name_Single Trip Travel Protect Silver',\n",
              "       'Product Name_Spouse or Parents Comprehensive Plan',\n",
              "       'Product Name_Ticket Protector', 'Product Name_Travel Cruise Protect',\n",
              "       'Product Name_Value Plan'],\n",
              "      dtype='object')"
            ]
          },
          "metadata": {
            "tags": []
          },
          "execution_count": 205
        }
      ]
    },
    {
      "cell_type": "code",
      "metadata": {
        "id": "ya2xicZacvqf"
      },
      "source": [
        ""
      ],
      "execution_count": null,
      "outputs": []
    },
    {
      "cell_type": "markdown",
      "metadata": {
        "id": "TwFe581qSUIP"
      },
      "source": [
        "# Imbalance Class (not performed)"
      ]
    },
    {
      "cell_type": "code",
      "metadata": {
        "colab": {
          "base_uri": "https://localhost:8080/"
        },
        "id": "AmI__I0EnHjE",
        "outputId": "3773167c-3490-4ab0-f10f-be3d3a9ebc1f"
      },
      "source": [
        "'''from imblearn.over_sampling import RandomOverSampler\r\n",
        "from collections import Counter\r\n",
        "ros = RandomOverSampler(random_state=42)\r\n",
        "\r\n",
        "# fit predictor and target variable\r\n",
        "x_ros, y_ros = ros.fit_resample(X, y)\r\n",
        "print('Original dataset shape', Counter(y))\r\n",
        "print('Resample dataset shape', Counter(y_ros)) "
      ],
      "execution_count": null,
      "outputs": [
        {
          "output_type": "stream",
          "text": [
            "Original dataset shape Counter({0: 47552, 1: 708})\n",
            "Resample dataset shape Counter({0: 47552, 1: 47552})\n"
          ],
          "name": "stdout"
        },
        {
          "output_type": "stream",
          "text": [
            "/usr/local/lib/python3.6/dist-packages/sklearn/utils/deprecation.py:87: FutureWarning: Function safe_indexing is deprecated; safe_indexing is deprecated in version 0.22 and will be removed in version 0.24.\n",
            "  warnings.warn(msg, category=FutureWarning)\n"
          ],
          "name": "stderr"
        }
      ]
    },
    {
      "cell_type": "code",
      "metadata": {
        "id": "BdbdHKjYOfgP"
      },
      "source": [
        ""
      ],
      "execution_count": null,
      "outputs": []
    },
    {
      "cell_type": "code",
      "metadata": {
        "colab": {
          "base_uri": "https://localhost:8080/"
        },
        "id": "zka-XyanCq3o",
        "outputId": "dbd156b5-f93e-4151-81a2-13f747390a16"
      },
      "source": [
        "#x_ros.shape"
      ],
      "execution_count": null,
      "outputs": [
        {
          "output_type": "execute_result",
          "data": {
            "text/plain": [
              "(95104, 49)"
            ]
          },
          "metadata": {
            "tags": []
          },
          "execution_count": 62
        }
      ]
    },
    {
      "cell_type": "code",
      "metadata": {
        "id": "g4TiOdmwcgKT"
      },
      "source": [
        "#X_train, X_test, y_train, y_test = train_test_split(x_ros, y_ros, test_size=0.2, random_state=42, stratify=y_ros)"
      ],
      "execution_count": null,
      "outputs": []
    },
    {
      "cell_type": "code",
      "metadata": {
        "colab": {
          "base_uri": "https://localhost:8080/"
        },
        "id": "unsSifWSEqkT",
        "outputId": "ad8bffea-02a8-44f1-f050-206ce10f150e"
      },
      "source": [
        "#X_train.shape"
      ],
      "execution_count": null,
      "outputs": [
        {
          "output_type": "execute_result",
          "data": {
            "text/plain": [
              "(76083, 50)"
            ]
          },
          "metadata": {
            "tags": []
          },
          "execution_count": 49
        }
      ]
    },
    {
      "cell_type": "code",
      "metadata": {
        "colab": {
          "base_uri": "https://localhost:8080/"
        },
        "id": "GkS4Ws2xg8bY",
        "outputId": "cd9e865e-98c7-41e8-87cc-16fd36555688"
      },
      "source": [
        "xgb = XGBClassifier()\r\n",
        "xgb.fit(X_train, y_train)\r\n",
        "\r\n",
        "y_test = xgb.predict(X_test)\r\n",
        "#print('{:s} : {:.3f}'.format('Random Forest', accuracy_score(y_test, y_pred)))    \r\n",
        "print(classification_report(y_test,xgb.predict(X_test)))"
      ],
      "execution_count": null,
      "outputs": [
        {
          "output_type": "stream",
          "text": [
            "              precision    recall  f1-score   support\n",
            "\n",
            "           0       1.00      1.00      1.00      9746\n",
            "           1       1.00      1.00      1.00      9275\n",
            "\n",
            "    accuracy                           1.00     19021\n",
            "   macro avg       1.00      1.00      1.00     19021\n",
            "weighted avg       1.00      1.00      1.00     19021\n",
            "\n"
          ],
          "name": "stdout"
        }
      ]
    },
    {
      "cell_type": "markdown",
      "metadata": {
        "id": "ulA9nXvOOlQw"
      },
      "source": [
        "# SMOTE Imbalance Class"
      ]
    },
    {
      "cell_type": "code",
      "metadata": {
        "colab": {
          "base_uri": "https://localhost:8080/"
        },
        "id": "N9B984VaOoCv",
        "outputId": "b600d099-82a2-4e70-a3b1-bf76800530df"
      },
      "source": [
        "from imblearn.over_sampling import SMOTE\r\n",
        "\r\n",
        "sm = SMOTE(random_state = 25, sampling_strategy = 1.0)   # again we are eqalizing both the classes\r\n",
        "\r\n"
      ],
      "execution_count": 44,
      "outputs": [
        {
          "output_type": "stream",
          "text": [
            "/usr/local/lib/python3.6/dist-packages/sklearn/externals/six.py:31: FutureWarning: The module is deprecated in version 0.21 and will be removed in version 0.23 since we've dropped support for Python 2.7. Please rely on the official version of six (https://pypi.org/project/six/).\n",
            "  \"(https://pypi.org/project/six/).\", FutureWarning)\n",
            "/usr/local/lib/python3.6/dist-packages/sklearn/utils/deprecation.py:144: FutureWarning: The sklearn.neighbors.base module is  deprecated in version 0.22 and will be removed in version 0.24. The corresponding classes / functions should instead be imported from sklearn.neighbors. Anything that cannot be imported from sklearn.neighbors is now part of the private API.\n",
            "  warnings.warn(message, FutureWarning)\n"
          ],
          "name": "stderr"
        }
      ]
    },
    {
      "cell_type": "code",
      "metadata": {
        "colab": {
          "base_uri": "https://localhost:8080/"
        },
        "id": "Y4qxCIQEOuB4",
        "outputId": "7efb5c54-8e86-406c-aaca-62afb66aec25"
      },
      "source": [
        "X_sm, y_sm = sm.fit_sample(X, y)\r\n",
        "print(X_sm.shape)\r\n",
        "print(y_sm.shape)"
      ],
      "execution_count": 46,
      "outputs": [
        {
          "output_type": "stream",
          "text": [
            "/usr/local/lib/python3.6/dist-packages/sklearn/utils/deprecation.py:87: FutureWarning: Function safe_indexing is deprecated; safe_indexing is deprecated in version 0.22 and will be removed in version 0.24.\n",
            "  warnings.warn(msg, category=FutureWarning)\n"
          ],
          "name": "stderr"
        },
        {
          "output_type": "stream",
          "text": [
            "(95104, 49)\n",
            "(95104,)\n"
          ],
          "name": "stdout"
        }
      ]
    },
    {
      "cell_type": "code",
      "metadata": {
        "id": "DXQBtGP-DFXz"
      },
      "source": [
        "X_train, X_test, y_train, y_test = train_test_split(X_sm, y_sm, test_size = 0.2, random_state = 42)"
      ],
      "execution_count": 47,
      "outputs": []
    },
    {
      "cell_type": "code",
      "metadata": {
        "id": "ye_PeKMOOuER"
      },
      "source": [
        "#perform xgboost classifier on smote transformation\r\n",
        "from xgboost import XGBClassifier\r\n",
        "xgb_smote = XGBClassifier()\r\n",
        "xgb_smote.fit(X_train, y_train)\r\n",
        "\r\n",
        "y_pred = xgb_smote.predict(X_test)"
      ],
      "execution_count": 48,
      "outputs": []
    },
    {
      "cell_type": "code",
      "metadata": {
        "colab": {
          "base_uri": "https://localhost:8080/"
        },
        "id": "iF9ZOwQ7OuGc",
        "outputId": "bca94733-f84b-4c4d-f57e-2670908de3fb"
      },
      "source": [
        "print(classification_report(y_test,y_pred))"
      ],
      "execution_count": 49,
      "outputs": [
        {
          "output_type": "stream",
          "text": [
            "              precision    recall  f1-score   support\n",
            "\n",
            "           0       0.86      0.87      0.87      9504\n",
            "           1       0.87      0.86      0.86      9517\n",
            "\n",
            "    accuracy                           0.86     19021\n",
            "   macro avg       0.86      0.86      0.86     19021\n",
            "weighted avg       0.86      0.86      0.86     19021\n",
            "\n"
          ],
          "name": "stdout"
        }
      ]
    },
    {
      "cell_type": "markdown",
      "metadata": {
        "id": "WDbIrejaYGXZ"
      },
      "source": [
        "# Hyperparameter"
      ]
    },
    {
      "cell_type": "code",
      "metadata": {
        "id": "s6dasgdOYNkz"
      },
      "source": [
        "from sklearn.model_selection import RandomizedSearchCV, GridSearchCV"
      ],
      "execution_count": 50,
      "outputs": []
    },
    {
      "cell_type": "code",
      "metadata": {
        "id": "h0nwb8H3PWxm"
      },
      "source": [
        "#create function for hyperparameter summary\r\n",
        "def print_results(results):\r\n",
        "    print('BEST PARAMS: {}\\n'.format(results.best_params_))\r\n",
        "\r\n",
        "    means = results.cv_results_['mean_test_score']\r\n",
        "    stds = results.cv_results_['std_test_score']\r\n",
        "    for mean, std, params in zip(means, stds, results.cv_results_['params']):\r\n",
        "        print('{} (+/-{}) for {}'.format(round(mean, 3), round(std * 2, 3), params))"
      ],
      "execution_count": 52,
      "outputs": []
    },
    {
      "cell_type": "code",
      "metadata": {
        "id": "fkobpYsgYNuY",
        "colab": {
          "base_uri": "https://localhost:8080/"
        },
        "outputId": "a34e534e-498a-44ae-fd6e-816d1b9a5b6d"
      },
      "source": [
        "#perform xgb classifier\r\n",
        "xgb_1 = XGBClassifier()\r\n",
        "parameters = {\r\n",
        "    'n_estimators': [5, 50, 100, 150, 200]\r\n",
        "    ,'max_depth': [2, 3, 4, 8, 16, 32, None]\r\n",
        "    ,'learning_rate': [0.03, 0.1, 0.3, 1]\r\n",
        "}\r\n",
        "rs = RandomizedSearchCV(xgb_1, parameters, cv=5,n_iter=5)\r\n",
        "rs.fit(X_train, y_train)\r\n",
        "\r\n",
        "print_results(rs)"
      ],
      "execution_count": 62,
      "outputs": [
        {
          "output_type": "stream",
          "text": [
            "/usr/local/lib/python3.6/dist-packages/sklearn/model_selection/_validation.py:536: FitFailedWarning: Estimator fit failed. The score on this train-test partition for these parameters will be set to nan. Details: \n",
            "xgboost.core.XGBoostError: Invalid Parameter format for max_depth expect int but value='None'\n",
            "\n",
            "  FitFailedWarning)\n"
          ],
          "name": "stderr"
        },
        {
          "output_type": "stream",
          "text": [
            "BEST PARAMS: {'n_estimators': 200, 'max_depth': 16, 'learning_rate': 0.03}\n",
            "\n",
            "0.974 (+/-0.003) for {'n_estimators': 200, 'max_depth': 16, 'learning_rate': 0.03}\n",
            "0.844 (+/-0.009) for {'n_estimators': 5, 'max_depth': 4, 'learning_rate': 1}\n",
            "0.968 (+/-0.002) for {'n_estimators': 100, 'max_depth': 3, 'learning_rate': 1}\n",
            "0.82 (+/-0.005) for {'n_estimators': 150, 'max_depth': 2, 'learning_rate': 0.03}\n",
            "nan (+/-nan) for {'n_estimators': 150, 'max_depth': None, 'learning_rate': 0.3}\n"
          ],
          "name": "stdout"
        }
      ]
    },
    {
      "cell_type": "code",
      "metadata": {
        "colab": {
          "base_uri": "https://localhost:8080/"
        },
        "id": "Sh8pQlsFYN4n",
        "outputId": "035922ff-6fb1-45bf-fbac-030351a31113"
      },
      "source": [
        "xgb_2 = XGBClassifier()\r\n",
        "parameters = {\r\n",
        "    'n_estimators': [200],\r\n",
        "    'max_depth': [16],\r\n",
        "    'learning_rate': [0.03]\r\n",
        "}\r\n",
        "rs_best = RandomizedSearchCV(xgb_2, parameters, cv=5,n_iter=10)\r\n",
        "rs_best.fit(X_train, y_train)\r\n",
        "print(classification_report(y_test,rs_best.predict(X_test)))\r\n",
        "print_results(rs_best)"
      ],
      "execution_count": 63,
      "outputs": [
        {
          "output_type": "stream",
          "text": [
            "/usr/local/lib/python3.6/dist-packages/sklearn/model_selection/_search.py:281: UserWarning: The total space of parameters 1 is smaller than n_iter=10. Running 1 iterations. For exhaustive searches, use GridSearchCV.\n",
            "  % (grid_size, self.n_iter, grid_size), UserWarning)\n"
          ],
          "name": "stderr"
        },
        {
          "output_type": "stream",
          "text": [
            "              precision    recall  f1-score   support\n",
            "\n",
            "           0       0.97      0.98      0.98      9504\n",
            "           1       0.98      0.97      0.98      9517\n",
            "\n",
            "    accuracy                           0.98     19021\n",
            "   macro avg       0.98      0.98      0.98     19021\n",
            "weighted avg       0.98      0.98      0.98     19021\n",
            "\n",
            "BEST PARAMS: {'n_estimators': 200, 'max_depth': 16, 'learning_rate': 0.03}\n",
            "\n",
            "0.974 (+/-0.003) for {'n_estimators': 200, 'max_depth': 16, 'learning_rate': 0.03}\n"
          ],
          "name": "stdout"
        }
      ]
    },
    {
      "cell_type": "code",
      "metadata": {
        "colab": {
          "base_uri": "https://localhost:8080/"
        },
        "id": "sThTGlluoWME",
        "outputId": "245f3b7c-499e-483b-8c36-d06dae1fd62a"
      },
      "source": [
        "#perform xgb classifier\r\n",
        "rfc_1 = RandomForestClassifier()\r\n",
        "parameters = {\r\n",
        "    'n_estimators': [5, 50, 100]\r\n",
        "    ,'max_depth': [2, 3, 4, 8, 16, None]\r\n",
        "}\r\n",
        "rs_rfc = RandomizedSearchCV(rfc_1, parameters, cv=5,n_iter=5)\r\n",
        "rs_rfc.fit(X_train, y_train)\r\n",
        "\r\n",
        "print_results(rs_rfc)"
      ],
      "execution_count": 82,
      "outputs": [
        {
          "output_type": "stream",
          "text": [
            "BEST PARAMS: {'n_estimators': 100, 'max_depth': None}\n",
            "\n",
            "0.78 (+/-0.013) for {'n_estimators': 50, 'max_depth': 2}\n",
            "0.799 (+/-0.022) for {'n_estimators': 5, 'max_depth': 4}\n",
            "0.792 (+/-0.008) for {'n_estimators': 50, 'max_depth': 3}\n",
            "0.977 (+/-0.002) for {'n_estimators': 100, 'max_depth': None}\n",
            "0.976 (+/-0.004) for {'n_estimators': 50, 'max_depth': None}\n"
          ],
          "name": "stdout"
        }
      ]
    },
    {
      "cell_type": "code",
      "metadata": {
        "id": "G2gKOg60YN7J",
        "colab": {
          "base_uri": "https://localhost:8080/"
        },
        "outputId": "d2538014-7e28-42d0-f37e-b2183785154c"
      },
      "source": [
        "rfc_2 = RandomForestClassifier()\r\n",
        "parameters = {\r\n",
        "    'n_estimators': [100]\r\n",
        "}\r\n",
        "rs_rfc_best = RandomizedSearchCV(xgb_2, parameters, cv=5,n_iter=10)\r\n",
        "rs_rfc_best.fit(X_train, y_train)\r\n",
        "print(classification_report(y_test,rs_rfc_best.predict(X_test)))\r\n",
        "print_results(rs_rfc_best)"
      ],
      "execution_count": 84,
      "outputs": [
        {
          "output_type": "stream",
          "text": [
            "/usr/local/lib/python3.6/dist-packages/sklearn/model_selection/_search.py:281: UserWarning: The total space of parameters 1 is smaller than n_iter=10. Running 1 iterations. For exhaustive searches, use GridSearchCV.\n",
            "  % (grid_size, self.n_iter, grid_size), UserWarning)\n"
          ],
          "name": "stderr"
        },
        {
          "output_type": "stream",
          "text": [
            "              precision    recall  f1-score   support\n",
            "\n",
            "           0       0.86      0.87      0.87      9504\n",
            "           1       0.87      0.86      0.86      9517\n",
            "\n",
            "    accuracy                           0.86     19021\n",
            "   macro avg       0.86      0.86      0.86     19021\n",
            "weighted avg       0.86      0.86      0.86     19021\n",
            "\n",
            "BEST PARAMS: {'n_estimators': 100}\n",
            "\n",
            "0.863 (+/-0.004) for {'n_estimators': 100}\n"
          ],
          "name": "stdout"
        }
      ]
    },
    {
      "cell_type": "markdown",
      "metadata": {
        "id": "rAIgOFYVSkr5"
      },
      "source": [
        "# Test Data"
      ]
    },
    {
      "cell_type": "code",
      "metadata": {
        "id": "msZwHOTkml3q"
      },
      "source": [
        "test_data = pd.read_csv('https://raw.githubusercontent.com/dphi-official/Datasets/master/travel_insurance/Testing_set_label.csv')"
      ],
      "execution_count": 64,
      "outputs": []
    },
    {
      "cell_type": "code",
      "metadata": {
        "colab": {
          "base_uri": "https://localhost:8080/",
          "height": 306
        },
        "id": "c6-wLX6_mmnD",
        "outputId": "a8b32d54-28d6-4d21-d84d-ba8604239c07"
      },
      "source": [
        "test_data.head()"
      ],
      "execution_count": 65,
      "outputs": [
        {
          "output_type": "execute_result",
          "data": {
            "text/html": [
              "<div>\n",
              "<style scoped>\n",
              "    .dataframe tbody tr th:only-of-type {\n",
              "        vertical-align: middle;\n",
              "    }\n",
              "\n",
              "    .dataframe tbody tr th {\n",
              "        vertical-align: top;\n",
              "    }\n",
              "\n",
              "    .dataframe thead th {\n",
              "        text-align: right;\n",
              "    }\n",
              "</style>\n",
              "<table border=\"1\" class=\"dataframe\">\n",
              "  <thead>\n",
              "    <tr style=\"text-align: right;\">\n",
              "      <th></th>\n",
              "      <th>Agency</th>\n",
              "      <th>Agency Type</th>\n",
              "      <th>Distribution Channel</th>\n",
              "      <th>Product Name</th>\n",
              "      <th>Duration</th>\n",
              "      <th>Destination</th>\n",
              "      <th>Net Sales</th>\n",
              "      <th>Commision (in value)</th>\n",
              "      <th>Gender</th>\n",
              "      <th>Age</th>\n",
              "    </tr>\n",
              "  </thead>\n",
              "  <tbody>\n",
              "    <tr>\n",
              "      <th>0</th>\n",
              "      <td>EPX</td>\n",
              "      <td>Travel Agency</td>\n",
              "      <td>Online</td>\n",
              "      <td>Cancellation Plan</td>\n",
              "      <td>24</td>\n",
              "      <td>HONG KONG</td>\n",
              "      <td>27.0</td>\n",
              "      <td>0.0</td>\n",
              "      <td>NaN</td>\n",
              "      <td>36</td>\n",
              "    </tr>\n",
              "    <tr>\n",
              "      <th>1</th>\n",
              "      <td>EPX</td>\n",
              "      <td>Travel Agency</td>\n",
              "      <td>Online</td>\n",
              "      <td>Cancellation Plan</td>\n",
              "      <td>51</td>\n",
              "      <td>JAPAN</td>\n",
              "      <td>45.0</td>\n",
              "      <td>0.0</td>\n",
              "      <td>NaN</td>\n",
              "      <td>36</td>\n",
              "    </tr>\n",
              "    <tr>\n",
              "      <th>2</th>\n",
              "      <td>EPX</td>\n",
              "      <td>Travel Agency</td>\n",
              "      <td>Online</td>\n",
              "      <td>Cancellation Plan</td>\n",
              "      <td>52</td>\n",
              "      <td>JAPAN</td>\n",
              "      <td>21.0</td>\n",
              "      <td>0.0</td>\n",
              "      <td>NaN</td>\n",
              "      <td>21</td>\n",
              "    </tr>\n",
              "    <tr>\n",
              "      <th>3</th>\n",
              "      <td>EPX</td>\n",
              "      <td>Travel Agency</td>\n",
              "      <td>Online</td>\n",
              "      <td>Cancellation Plan</td>\n",
              "      <td>89</td>\n",
              "      <td>SINGAPORE</td>\n",
              "      <td>11.0</td>\n",
              "      <td>0.0</td>\n",
              "      <td>NaN</td>\n",
              "      <td>30</td>\n",
              "    </tr>\n",
              "    <tr>\n",
              "      <th>4</th>\n",
              "      <td>EPX</td>\n",
              "      <td>Travel Agency</td>\n",
              "      <td>Online</td>\n",
              "      <td>Cancellation Plan</td>\n",
              "      <td>5</td>\n",
              "      <td>MALAYSIA</td>\n",
              "      <td>10.0</td>\n",
              "      <td>0.0</td>\n",
              "      <td>NaN</td>\n",
              "      <td>33</td>\n",
              "    </tr>\n",
              "  </tbody>\n",
              "</table>\n",
              "</div>"
            ],
            "text/plain": [
              "  Agency    Agency Type Distribution Channel  ... Commision (in value)  Gender Age\n",
              "0    EPX  Travel Agency               Online  ...                  0.0     NaN  36\n",
              "1    EPX  Travel Agency               Online  ...                  0.0     NaN  36\n",
              "2    EPX  Travel Agency               Online  ...                  0.0     NaN  21\n",
              "3    EPX  Travel Agency               Online  ...                  0.0     NaN  30\n",
              "4    EPX  Travel Agency               Online  ...                  0.0     NaN  33\n",
              "\n",
              "[5 rows x 10 columns]"
            ]
          },
          "metadata": {
            "tags": []
          },
          "execution_count": 65
        }
      ]
    },
    {
      "cell_type": "code",
      "metadata": {
        "id": "Gi_ye7MxmolK"
      },
      "source": [
        "test_final = test_data.filter(['Agency','Duration','Net Sales','Commision (in value)', 'Agency Type', 'Distribution Channel','Age', 'Product Name'], axis=1)"
      ],
      "execution_count": 66,
      "outputs": []
    },
    {
      "cell_type": "code",
      "metadata": {
        "id": "CMD8ivVgiffS"
      },
      "source": [
        "ohe_test = pd.get_dummies(test_final, columns = ['Agency','Agency Type', 'Distribution Channel', 'Product Name'])"
      ],
      "execution_count": 67,
      "outputs": []
    },
    {
      "cell_type": "code",
      "metadata": {
        "colab": {
          "base_uri": "https://localhost:8080/"
        },
        "id": "6naTQzVOif9D",
        "outputId": "7449cf7e-3daa-42f7-ff0b-f5352c1d8f0a"
      },
      "source": [
        "ohe_test.columns"
      ],
      "execution_count": 68,
      "outputs": [
        {
          "output_type": "execute_result",
          "data": {
            "text/plain": [
              "Index(['Duration', 'Net Sales', 'Commision (in value)', 'Age', 'Agency_ADM',\n",
              "       'Agency_ART', 'Agency_C2B', 'Agency_CBH', 'Agency_CCR', 'Agency_CSR',\n",
              "       'Agency_CWT', 'Agency_EPX', 'Agency_JWT', 'Agency_JZI', 'Agency_KML',\n",
              "       'Agency_LWC', 'Agency_RAB', 'Agency_SSI', 'Agency_TST', 'Agency_TTW',\n",
              "       'Agency Type_Airlines', 'Agency Type_Travel Agency',\n",
              "       'Distribution Channel_Offline', 'Distribution Channel_Online',\n",
              "       'Product Name_1 way Comprehensive Plan',\n",
              "       'Product Name_2 way Comprehensive Plan', 'Product Name_24 Protect',\n",
              "       'Product Name_Annual Gold Plan', 'Product Name_Annual Silver Plan',\n",
              "       'Product Name_Annual Travel Protect Gold',\n",
              "       'Product Name_Annual Travel Protect Platinum',\n",
              "       'Product Name_Annual Travel Protect Silver', 'Product Name_Basic Plan',\n",
              "       'Product Name_Bronze Plan', 'Product Name_Cancellation Plan',\n",
              "       'Product Name_Child Comprehensive Plan',\n",
              "       'Product Name_Comprehensive Plan', 'Product Name_Gold Plan',\n",
              "       'Product Name_Individual Comprehensive Plan',\n",
              "       'Product Name_Premier Plan',\n",
              "       'Product Name_Rental Vehicle Excess Insurance',\n",
              "       'Product Name_Silver Plan',\n",
              "       'Product Name_Single Trip Travel Protect Gold',\n",
              "       'Product Name_Single Trip Travel Protect Platinum',\n",
              "       'Product Name_Single Trip Travel Protect Silver',\n",
              "       'Product Name_Spouse or Parents Comprehensive Plan',\n",
              "       'Product Name_Ticket Protector', 'Product Name_Travel Cruise Protect',\n",
              "       'Product Name_Value Plan'],\n",
              "      dtype='object')"
            ]
          },
          "metadata": {
            "tags": []
          },
          "execution_count": 68
        }
      ]
    },
    {
      "cell_type": "code",
      "metadata": {
        "colab": {
          "base_uri": "https://localhost:8080/"
        },
        "id": "J0Ybw6jgilFy",
        "outputId": "6c19194f-c88d-44b6-81af-755ffe1bc1ea"
      },
      "source": [
        "ohe_test.shape"
      ],
      "execution_count": 69,
      "outputs": [
        {
          "output_type": "execute_result",
          "data": {
            "text/plain": [
              "(15832, 49)"
            ]
          },
          "metadata": {
            "tags": []
          },
          "execution_count": 69
        }
      ]
    },
    {
      "cell_type": "code",
      "metadata": {
        "id": "9ePVHE7mTwZt"
      },
      "source": [
        "X_test_data = ohe_test"
      ],
      "execution_count": 70,
      "outputs": []
    },
    {
      "cell_type": "code",
      "metadata": {
        "colab": {
          "base_uri": "https://localhost:8080/"
        },
        "id": "R00evy3cD7nx",
        "outputId": "20638aa4-81b7-48c7-89ef-d3d335d89627"
      },
      "source": [
        "print(X_test_data.shape)\r\n",
        "print(X.shape)"
      ],
      "execution_count": 71,
      "outputs": [
        {
          "output_type": "stream",
          "text": [
            "(15832, 49)\n",
            "(48260, 49)\n"
          ],
          "name": "stdout"
        }
      ]
    },
    {
      "cell_type": "code",
      "metadata": {
        "id": "5exCz9wLFm3S"
      },
      "source": [
        "X.columns = X_test_data.columns"
      ],
      "execution_count": 72,
      "outputs": []
    },
    {
      "cell_type": "markdown",
      "metadata": {
        "id": "cpolW2NsTwxo"
      },
      "source": [
        "# Basic Prediction"
      ]
    },
    {
      "cell_type": "code",
      "metadata": {
        "id": "H84zU58xT2Dx"
      },
      "source": [
        "y_basic_xgb = rs_best.predict(X_test_data.values)"
      ],
      "execution_count": 73,
      "outputs": []
    },
    {
      "cell_type": "code",
      "metadata": {
        "id": "pjd2SuM6T2LL"
      },
      "source": [
        "res_basic = pd.DataFrame(y_basic_xgb) #preditcions are nothing but the final predictions of your model on input features of your new unseen test data\r\n",
        "res_basic.index = X_test_data.index # its important for comparison. Here \"test_new\" is your new test dataset\r\n",
        "res_basic.columns = [\"prediction\"]\r\n",
        "res_basic.to_csv(\"prediction_xgb.csv\")      # the csv file will be saved locally on the same location where this notebook is located."
      ],
      "execution_count": 74,
      "outputs": []
    },
    {
      "cell_type": "code",
      "metadata": {
        "colab": {
          "base_uri": "https://localhost:8080/",
          "height": 17
        },
        "id": "yhEur8W6T2Ny",
        "outputId": "0e854de3-9e36-40e9-b0d7-7b7a43fc02f1"
      },
      "source": [
        "from google.colab import files\r\n",
        "res_basic.to_csv('prediction_xgb.csv')         \r\n",
        "files.download('prediction_xgb.csv')"
      ],
      "execution_count": 75,
      "outputs": [
        {
          "output_type": "display_data",
          "data": {
            "application/javascript": [
              "\n",
              "    async function download(id, filename, size) {\n",
              "      if (!google.colab.kernel.accessAllowed) {\n",
              "        return;\n",
              "      }\n",
              "      const div = document.createElement('div');\n",
              "      const label = document.createElement('label');\n",
              "      label.textContent = `Downloading \"${filename}\": `;\n",
              "      div.appendChild(label);\n",
              "      const progress = document.createElement('progress');\n",
              "      progress.max = size;\n",
              "      div.appendChild(progress);\n",
              "      document.body.appendChild(div);\n",
              "\n",
              "      const buffers = [];\n",
              "      let downloaded = 0;\n",
              "\n",
              "      const channel = await google.colab.kernel.comms.open(id);\n",
              "      // Send a message to notify the kernel that we're ready.\n",
              "      channel.send({})\n",
              "\n",
              "      for await (const message of channel.messages) {\n",
              "        // Send a message to notify the kernel that we're ready.\n",
              "        channel.send({})\n",
              "        if (message.buffers) {\n",
              "          for (const buffer of message.buffers) {\n",
              "            buffers.push(buffer);\n",
              "            downloaded += buffer.byteLength;\n",
              "            progress.value = downloaded;\n",
              "          }\n",
              "        }\n",
              "      }\n",
              "      const blob = new Blob(buffers, {type: 'application/binary'});\n",
              "      const a = document.createElement('a');\n",
              "      a.href = window.URL.createObjectURL(blob);\n",
              "      a.download = filename;\n",
              "      div.appendChild(a);\n",
              "      a.click();\n",
              "      div.remove();\n",
              "    }\n",
              "  "
            ],
            "text/plain": [
              "<IPython.core.display.Javascript object>"
            ]
          },
          "metadata": {
            "tags": []
          }
        },
        {
          "output_type": "display_data",
          "data": {
            "application/javascript": [
              "download(\"download_86dab0b9-e034-492e-8a13-8faf34845490\", \"prediction_xgb.csv\", 115558)"
            ],
            "text/plain": [
              "<IPython.core.display.Javascript object>"
            ]
          },
          "metadata": {
            "tags": []
          }
        }
      ]
    },
    {
      "cell_type": "code",
      "metadata": {
        "id": "9WibU0ZKrB3e"
      },
      "source": [
        "y_basic_rfc = rs_rfc_best.predict(X_test_data.values)"
      ],
      "execution_count": 85,
      "outputs": []
    },
    {
      "cell_type": "code",
      "metadata": {
        "id": "GH6vZkpJq6gl"
      },
      "source": [
        "res_basic = pd.DataFrame(y_basic_rfc) #preditcions are nothing but the final predictions of your model on input features of your new unseen test data\r\n",
        "res_basic.index = X_test_data.index # its important for comparison. Here \"test_new\" is your new test dataset\r\n",
        "res_basic.columns = [\"prediction\"]\r\n",
        "res_basic.to_csv(\"prediction_rfc.csv\")      # the csv file will be saved locally on the same location where this notebook is located."
      ],
      "execution_count": 86,
      "outputs": []
    },
    {
      "cell_type": "code",
      "metadata": {
        "colab": {
          "base_uri": "https://localhost:8080/",
          "height": 17
        },
        "id": "9jedqUurq6l2",
        "outputId": "55875ec1-3e84-4d72-eb8a-5926df620486"
      },
      "source": [
        "from google.colab import files\r\n",
        "res_basic.to_csv('prediction_rfc.csv')         \r\n",
        "files.download('prediction_rfc.csv')"
      ],
      "execution_count": 87,
      "outputs": [
        {
          "output_type": "display_data",
          "data": {
            "application/javascript": [
              "\n",
              "    async function download(id, filename, size) {\n",
              "      if (!google.colab.kernel.accessAllowed) {\n",
              "        return;\n",
              "      }\n",
              "      const div = document.createElement('div');\n",
              "      const label = document.createElement('label');\n",
              "      label.textContent = `Downloading \"${filename}\": `;\n",
              "      div.appendChild(label);\n",
              "      const progress = document.createElement('progress');\n",
              "      progress.max = size;\n",
              "      div.appendChild(progress);\n",
              "      document.body.appendChild(div);\n",
              "\n",
              "      const buffers = [];\n",
              "      let downloaded = 0;\n",
              "\n",
              "      const channel = await google.colab.kernel.comms.open(id);\n",
              "      // Send a message to notify the kernel that we're ready.\n",
              "      channel.send({})\n",
              "\n",
              "      for await (const message of channel.messages) {\n",
              "        // Send a message to notify the kernel that we're ready.\n",
              "        channel.send({})\n",
              "        if (message.buffers) {\n",
              "          for (const buffer of message.buffers) {\n",
              "            buffers.push(buffer);\n",
              "            downloaded += buffer.byteLength;\n",
              "            progress.value = downloaded;\n",
              "          }\n",
              "        }\n",
              "      }\n",
              "      const blob = new Blob(buffers, {type: 'application/binary'});\n",
              "      const a = document.createElement('a');\n",
              "      a.href = window.URL.createObjectURL(blob);\n",
              "      a.download = filename;\n",
              "      div.appendChild(a);\n",
              "      a.click();\n",
              "      div.remove();\n",
              "    }\n",
              "  "
            ],
            "text/plain": [
              "<IPython.core.display.Javascript object>"
            ]
          },
          "metadata": {
            "tags": []
          }
        },
        {
          "output_type": "display_data",
          "data": {
            "application/javascript": [
              "download(\"download_fd50f584-2e47-4452-898d-b309fa2af5dc\", \"prediction_rfc.csv\", 115558)"
            ],
            "text/plain": [
              "<IPython.core.display.Javascript object>"
            ]
          },
          "metadata": {
            "tags": []
          }
        }
      ]
    },
    {
      "cell_type": "code",
      "metadata": {
        "id": "YYwAqgzdDxHs"
      },
      "source": [
        ""
      ],
      "execution_count": null,
      "outputs": []
    },
    {
      "cell_type": "markdown",
      "metadata": {
        "id": "1zsswBhI2E6V"
      },
      "source": [
        "# Feature Selection RFE"
      ]
    },
    {
      "cell_type": "code",
      "metadata": {
        "id": "cneLx516luLV"
      },
      "source": [
        "#perform RFE using xgb from hyperparameter tuning\r\n",
        "#hyperparameter tuned can't be applied to feature selection"
      ],
      "execution_count": null,
      "outputs": []
    },
    {
      "cell_type": "code",
      "metadata": {
        "id": "3F3fCMNz2JTN"
      },
      "source": [
        "xgb_3 = XGBClassifier()\r\n",
        "from sklearn.feature_selection import RFE\r\n",
        "selector = RFE(xgb_3, step=1)\r\n",
        "selector = selector.fit(X_train, y_train)"
      ],
      "execution_count": 94,
      "outputs": []
    },
    {
      "cell_type": "code",
      "metadata": {
        "colab": {
          "base_uri": "https://localhost:8080/"
        },
        "id": "k0kqi6_h2Ksv",
        "outputId": "44f972c7-8770-4cfb-be1b-1462e31a6964"
      },
      "source": [
        "selector.support_\r\n"
      ],
      "execution_count": 95,
      "outputs": [
        {
          "output_type": "execute_result",
          "data": {
            "text/plain": [
              "array([ True,  True,  True,  True, False, False,  True, False,  True,\n",
              "       False,  True,  True, False,  True,  True,  True, False, False,\n",
              "        True, False,  True, False,  True, False,  True,  True, False,\n",
              "       False, False,  True, False, False, False,  True,  True, False,\n",
              "        True,  True, False, False, False,  True,  True, False,  True,\n",
              "       False, False, False, False])"
            ]
          },
          "metadata": {
            "tags": []
          },
          "execution_count": 95
        }
      ]
    },
    {
      "cell_type": "code",
      "metadata": {
        "colab": {
          "base_uri": "https://localhost:8080/",
          "height": 1000
        },
        "id": "vlrc1wAR2Ole",
        "outputId": "21e177fe-93a7-4553-8e7c-225ab43e5712"
      },
      "source": [
        "\r\n",
        "selected_rf_features = pd.DataFrame({'Feature':list(X.columns),\r\n",
        "                                      'Ranking':selector.ranking_})\r\n",
        "selected_rf_features.sort_values(by='Ranking')"
      ],
      "execution_count": 96,
      "outputs": [
        {
          "output_type": "execute_result",
          "data": {
            "text/html": [
              "<div>\n",
              "<style scoped>\n",
              "    .dataframe tbody tr th:only-of-type {\n",
              "        vertical-align: middle;\n",
              "    }\n",
              "\n",
              "    .dataframe tbody tr th {\n",
              "        vertical-align: top;\n",
              "    }\n",
              "\n",
              "    .dataframe thead th {\n",
              "        text-align: right;\n",
              "    }\n",
              "</style>\n",
              "<table border=\"1\" class=\"dataframe\">\n",
              "  <thead>\n",
              "    <tr style=\"text-align: right;\">\n",
              "      <th></th>\n",
              "      <th>Feature</th>\n",
              "      <th>Ranking</th>\n",
              "    </tr>\n",
              "  </thead>\n",
              "  <tbody>\n",
              "    <tr>\n",
              "      <th>0</th>\n",
              "      <td>Duration</td>\n",
              "      <td>1</td>\n",
              "    </tr>\n",
              "    <tr>\n",
              "      <th>44</th>\n",
              "      <td>Product Name_Single Trip Travel Protect Silver</td>\n",
              "      <td>1</td>\n",
              "    </tr>\n",
              "    <tr>\n",
              "      <th>42</th>\n",
              "      <td>Product Name_Single Trip Travel Protect Gold</td>\n",
              "      <td>1</td>\n",
              "    </tr>\n",
              "    <tr>\n",
              "      <th>41</th>\n",
              "      <td>Product Name_Silver Plan</td>\n",
              "      <td>1</td>\n",
              "    </tr>\n",
              "    <tr>\n",
              "      <th>37</th>\n",
              "      <td>Product Name_Gold Plan</td>\n",
              "      <td>1</td>\n",
              "    </tr>\n",
              "    <tr>\n",
              "      <th>36</th>\n",
              "      <td>Product Name_Comprehensive Plan</td>\n",
              "      <td>1</td>\n",
              "    </tr>\n",
              "    <tr>\n",
              "      <th>34</th>\n",
              "      <td>Product Name_Cancellation Plan</td>\n",
              "      <td>1</td>\n",
              "    </tr>\n",
              "    <tr>\n",
              "      <th>33</th>\n",
              "      <td>Product Name_Bronze Plan</td>\n",
              "      <td>1</td>\n",
              "    </tr>\n",
              "    <tr>\n",
              "      <th>29</th>\n",
              "      <td>Product Name_Annual Travel Protect Gold</td>\n",
              "      <td>1</td>\n",
              "    </tr>\n",
              "    <tr>\n",
              "      <th>25</th>\n",
              "      <td>Product Name_2 way Comprehensive Plan</td>\n",
              "      <td>1</td>\n",
              "    </tr>\n",
              "    <tr>\n",
              "      <th>22</th>\n",
              "      <td>Distribution Channel_Offline</td>\n",
              "      <td>1</td>\n",
              "    </tr>\n",
              "    <tr>\n",
              "      <th>20</th>\n",
              "      <td>Agency Type_Airlines</td>\n",
              "      <td>1</td>\n",
              "    </tr>\n",
              "    <tr>\n",
              "      <th>18</th>\n",
              "      <td>Agency_TST</td>\n",
              "      <td>1</td>\n",
              "    </tr>\n",
              "    <tr>\n",
              "      <th>15</th>\n",
              "      <td>Agency_LWC</td>\n",
              "      <td>1</td>\n",
              "    </tr>\n",
              "    <tr>\n",
              "      <th>24</th>\n",
              "      <td>Product Name_1 way Comprehensive Plan</td>\n",
              "      <td>1</td>\n",
              "    </tr>\n",
              "    <tr>\n",
              "      <th>13</th>\n",
              "      <td>Agency_JZI</td>\n",
              "      <td>1</td>\n",
              "    </tr>\n",
              "    <tr>\n",
              "      <th>1</th>\n",
              "      <td>Net Sales</td>\n",
              "      <td>1</td>\n",
              "    </tr>\n",
              "    <tr>\n",
              "      <th>11</th>\n",
              "      <td>Agency_EPX</td>\n",
              "      <td>1</td>\n",
              "    </tr>\n",
              "    <tr>\n",
              "      <th>2</th>\n",
              "      <td>Commision (in value)</td>\n",
              "      <td>1</td>\n",
              "    </tr>\n",
              "    <tr>\n",
              "      <th>10</th>\n",
              "      <td>Agency_CWT</td>\n",
              "      <td>1</td>\n",
              "    </tr>\n",
              "    <tr>\n",
              "      <th>3</th>\n",
              "      <td>Age</td>\n",
              "      <td>1</td>\n",
              "    </tr>\n",
              "    <tr>\n",
              "      <th>6</th>\n",
              "      <td>Agency_C2B</td>\n",
              "      <td>1</td>\n",
              "    </tr>\n",
              "    <tr>\n",
              "      <th>14</th>\n",
              "      <td>Agency_KML</td>\n",
              "      <td>1</td>\n",
              "    </tr>\n",
              "    <tr>\n",
              "      <th>8</th>\n",
              "      <td>Agency_CCR</td>\n",
              "      <td>1</td>\n",
              "    </tr>\n",
              "    <tr>\n",
              "      <th>17</th>\n",
              "      <td>Agency_SSI</td>\n",
              "      <td>2</td>\n",
              "    </tr>\n",
              "    <tr>\n",
              "      <th>16</th>\n",
              "      <td>Agency_RAB</td>\n",
              "      <td>3</td>\n",
              "    </tr>\n",
              "    <tr>\n",
              "      <th>43</th>\n",
              "      <td>Product Name_Single Trip Travel Protect Platinum</td>\n",
              "      <td>4</td>\n",
              "    </tr>\n",
              "    <tr>\n",
              "      <th>9</th>\n",
              "      <td>Agency_CSR</td>\n",
              "      <td>5</td>\n",
              "    </tr>\n",
              "    <tr>\n",
              "      <th>7</th>\n",
              "      <td>Agency_CBH</td>\n",
              "      <td>6</td>\n",
              "    </tr>\n",
              "    <tr>\n",
              "      <th>26</th>\n",
              "      <td>Product Name_24 Protect</td>\n",
              "      <td>7</td>\n",
              "    </tr>\n",
              "    <tr>\n",
              "      <th>30</th>\n",
              "      <td>Product Name_Annual Travel Protect Platinum</td>\n",
              "      <td>8</td>\n",
              "    </tr>\n",
              "    <tr>\n",
              "      <th>40</th>\n",
              "      <td>Product Name_Rental Vehicle Excess Insurance</td>\n",
              "      <td>9</td>\n",
              "    </tr>\n",
              "    <tr>\n",
              "      <th>5</th>\n",
              "      <td>Agency_ART</td>\n",
              "      <td>10</td>\n",
              "    </tr>\n",
              "    <tr>\n",
              "      <th>4</th>\n",
              "      <td>Agency_ADM</td>\n",
              "      <td>11</td>\n",
              "    </tr>\n",
              "    <tr>\n",
              "      <th>31</th>\n",
              "      <td>Product Name_Annual Travel Protect Silver</td>\n",
              "      <td>12</td>\n",
              "    </tr>\n",
              "    <tr>\n",
              "      <th>39</th>\n",
              "      <td>Product Name_Premier Plan</td>\n",
              "      <td>13</td>\n",
              "    </tr>\n",
              "    <tr>\n",
              "      <th>38</th>\n",
              "      <td>Product Name_Individual Comprehensive Plan</td>\n",
              "      <td>14</td>\n",
              "    </tr>\n",
              "    <tr>\n",
              "      <th>19</th>\n",
              "      <td>Agency_TTW</td>\n",
              "      <td>15</td>\n",
              "    </tr>\n",
              "    <tr>\n",
              "      <th>27</th>\n",
              "      <td>Product Name_Annual Gold Plan</td>\n",
              "      <td>16</td>\n",
              "    </tr>\n",
              "    <tr>\n",
              "      <th>28</th>\n",
              "      <td>Product Name_Annual Silver Plan</td>\n",
              "      <td>17</td>\n",
              "    </tr>\n",
              "    <tr>\n",
              "      <th>32</th>\n",
              "      <td>Product Name_Basic Plan</td>\n",
              "      <td>18</td>\n",
              "    </tr>\n",
              "    <tr>\n",
              "      <th>35</th>\n",
              "      <td>Product Name_Child Comprehensive Plan</td>\n",
              "      <td>19</td>\n",
              "    </tr>\n",
              "    <tr>\n",
              "      <th>12</th>\n",
              "      <td>Agency_JWT</td>\n",
              "      <td>20</td>\n",
              "    </tr>\n",
              "    <tr>\n",
              "      <th>21</th>\n",
              "      <td>Agency Type_Travel Agency</td>\n",
              "      <td>21</td>\n",
              "    </tr>\n",
              "    <tr>\n",
              "      <th>45</th>\n",
              "      <td>Product Name_Spouse or Parents Comprehensive Plan</td>\n",
              "      <td>22</td>\n",
              "    </tr>\n",
              "    <tr>\n",
              "      <th>46</th>\n",
              "      <td>Product Name_Ticket Protector</td>\n",
              "      <td>23</td>\n",
              "    </tr>\n",
              "    <tr>\n",
              "      <th>47</th>\n",
              "      <td>Product Name_Travel Cruise Protect</td>\n",
              "      <td>24</td>\n",
              "    </tr>\n",
              "    <tr>\n",
              "      <th>23</th>\n",
              "      <td>Distribution Channel_Online</td>\n",
              "      <td>25</td>\n",
              "    </tr>\n",
              "    <tr>\n",
              "      <th>48</th>\n",
              "      <td>Product Name_Value Plan</td>\n",
              "      <td>26</td>\n",
              "    </tr>\n",
              "  </tbody>\n",
              "</table>\n",
              "</div>"
            ],
            "text/plain": [
              "                                              Feature  Ranking\n",
              "0                                            Duration        1\n",
              "44     Product Name_Single Trip Travel Protect Silver        1\n",
              "42       Product Name_Single Trip Travel Protect Gold        1\n",
              "41                           Product Name_Silver Plan        1\n",
              "37                             Product Name_Gold Plan        1\n",
              "36                    Product Name_Comprehensive Plan        1\n",
              "34                     Product Name_Cancellation Plan        1\n",
              "33                           Product Name_Bronze Plan        1\n",
              "29            Product Name_Annual Travel Protect Gold        1\n",
              "25              Product Name_2 way Comprehensive Plan        1\n",
              "22                       Distribution Channel_Offline        1\n",
              "20                               Agency Type_Airlines        1\n",
              "18                                         Agency_TST        1\n",
              "15                                         Agency_LWC        1\n",
              "24              Product Name_1 way Comprehensive Plan        1\n",
              "13                                         Agency_JZI        1\n",
              "1                                           Net Sales        1\n",
              "11                                         Agency_EPX        1\n",
              "2                                Commision (in value)        1\n",
              "10                                         Agency_CWT        1\n",
              "3                                                 Age        1\n",
              "6                                          Agency_C2B        1\n",
              "14                                         Agency_KML        1\n",
              "8                                          Agency_CCR        1\n",
              "17                                         Agency_SSI        2\n",
              "16                                         Agency_RAB        3\n",
              "43   Product Name_Single Trip Travel Protect Platinum        4\n",
              "9                                          Agency_CSR        5\n",
              "7                                          Agency_CBH        6\n",
              "26                            Product Name_24 Protect        7\n",
              "30        Product Name_Annual Travel Protect Platinum        8\n",
              "40       Product Name_Rental Vehicle Excess Insurance        9\n",
              "5                                          Agency_ART       10\n",
              "4                                          Agency_ADM       11\n",
              "31          Product Name_Annual Travel Protect Silver       12\n",
              "39                          Product Name_Premier Plan       13\n",
              "38         Product Name_Individual Comprehensive Plan       14\n",
              "19                                         Agency_TTW       15\n",
              "27                      Product Name_Annual Gold Plan       16\n",
              "28                    Product Name_Annual Silver Plan       17\n",
              "32                            Product Name_Basic Plan       18\n",
              "35              Product Name_Child Comprehensive Plan       19\n",
              "12                                         Agency_JWT       20\n",
              "21                          Agency Type_Travel Agency       21\n",
              "45  Product Name_Spouse or Parents Comprehensive Plan       22\n",
              "46                      Product Name_Ticket Protector       23\n",
              "47                 Product Name_Travel Cruise Protect       24\n",
              "23                        Distribution Channel_Online       25\n",
              "48                            Product Name_Value Plan       26"
            ]
          },
          "metadata": {
            "tags": []
          },
          "execution_count": 96
        }
      ]
    },
    {
      "cell_type": "code",
      "metadata": {
        "id": "0kf7614p2ROS"
      },
      "source": [
        "X_important_train = selector.transform(np.array(X_train))\r\n",
        "X_important_test = selector.transform(np.array(X_test))"
      ],
      "execution_count": 97,
      "outputs": []
    },
    {
      "cell_type": "code",
      "metadata": {
        "colab": {
          "base_uri": "https://localhost:8080/"
        },
        "id": "3xgMktfi3itu",
        "outputId": "65a4e39d-2e55-4562-ab50-d45f575bfb17"
      },
      "source": [
        "xgb_important = XGBClassifier()\r\n",
        "# Train the new classifier on the new dataset containing the most important features\r\n",
        "xgb_important.fit(X_important_train, y_train)\r\n",
        "print(classification_report(y_test,xgb_important.predict(X_important_test)))"
      ],
      "execution_count": 98,
      "outputs": [
        {
          "output_type": "stream",
          "text": [
            "              precision    recall  f1-score   support\n",
            "\n",
            "           0       0.86      0.87      0.87      9504\n",
            "           1       0.87      0.86      0.86      9517\n",
            "\n",
            "    accuracy                           0.87     19021\n",
            "   macro avg       0.87      0.87      0.87     19021\n",
            "weighted avg       0.87      0.87      0.87     19021\n",
            "\n"
          ],
          "name": "stdout"
        }
      ]
    },
    {
      "cell_type": "code",
      "metadata": {
        "id": "fsFGROvs3ryU"
      },
      "source": [
        "X_final_test = selector.transform(np.array(X_test_data))"
      ],
      "execution_count": 99,
      "outputs": []
    },
    {
      "cell_type": "code",
      "metadata": {
        "id": "B46kKOhy6OCF"
      },
      "source": [
        "y_test_rfe = xgb_important.predict(X_final_test)"
      ],
      "execution_count": 100,
      "outputs": []
    },
    {
      "cell_type": "code",
      "metadata": {
        "id": "eXCZvxPc6Z3_"
      },
      "source": [
        "res_basic = pd.DataFrame(y_test_rfe) #preditcions are nothing but the final predictions of your model on input features of your new unseen test data\r\n",
        "res_basic.index = X_test_data.index # its important for comparison. Here \"test_new\" is your new test dataset\r\n",
        "res_basic.columns = [\"prediction\"]\r\n",
        "res_basic.to_csv(\"prediction_xgb_rfe.csv\")      # the csv file will be saved locally on the same location where this notebook is located."
      ],
      "execution_count": 101,
      "outputs": []
    },
    {
      "cell_type": "code",
      "metadata": {
        "colab": {
          "base_uri": "https://localhost:8080/",
          "height": 17
        },
        "id": "9iM3Ywxt6gpY",
        "outputId": "9f86deee-b1b8-47c1-87d4-008e4ed44b9d"
      },
      "source": [
        "from google.colab import files\r\n",
        "res_basic.to_csv('prediction_xgb_rfe.csv')         \r\n",
        "files.download('prediction_xgb_rfe.csv')"
      ],
      "execution_count": 102,
      "outputs": [
        {
          "output_type": "display_data",
          "data": {
            "application/javascript": [
              "\n",
              "    async function download(id, filename, size) {\n",
              "      if (!google.colab.kernel.accessAllowed) {\n",
              "        return;\n",
              "      }\n",
              "      const div = document.createElement('div');\n",
              "      const label = document.createElement('label');\n",
              "      label.textContent = `Downloading \"${filename}\": `;\n",
              "      div.appendChild(label);\n",
              "      const progress = document.createElement('progress');\n",
              "      progress.max = size;\n",
              "      div.appendChild(progress);\n",
              "      document.body.appendChild(div);\n",
              "\n",
              "      const buffers = [];\n",
              "      let downloaded = 0;\n",
              "\n",
              "      const channel = await google.colab.kernel.comms.open(id);\n",
              "      // Send a message to notify the kernel that we're ready.\n",
              "      channel.send({})\n",
              "\n",
              "      for await (const message of channel.messages) {\n",
              "        // Send a message to notify the kernel that we're ready.\n",
              "        channel.send({})\n",
              "        if (message.buffers) {\n",
              "          for (const buffer of message.buffers) {\n",
              "            buffers.push(buffer);\n",
              "            downloaded += buffer.byteLength;\n",
              "            progress.value = downloaded;\n",
              "          }\n",
              "        }\n",
              "      }\n",
              "      const blob = new Blob(buffers, {type: 'application/binary'});\n",
              "      const a = document.createElement('a');\n",
              "      a.href = window.URL.createObjectURL(blob);\n",
              "      a.download = filename;\n",
              "      div.appendChild(a);\n",
              "      a.click();\n",
              "      div.remove();\n",
              "    }\n",
              "  "
            ],
            "text/plain": [
              "<IPython.core.display.Javascript object>"
            ]
          },
          "metadata": {
            "tags": []
          }
        },
        {
          "output_type": "display_data",
          "data": {
            "application/javascript": [
              "download(\"download_190d03dd-9080-425d-a04f-073eb6ab2b58\", \"prediction_xgb_rfe.csv\", 115558)"
            ],
            "text/plain": [
              "<IPython.core.display.Javascript object>"
            ]
          },
          "metadata": {
            "tags": []
          }
        }
      ]
    },
    {
      "cell_type": "code",
      "metadata": {
        "id": "dXnTayvL6qW8"
      },
      "source": [
        ""
      ],
      "execution_count": null,
      "outputs": []
    },
    {
      "cell_type": "markdown",
      "metadata": {
        "id": "8wsU2keb7UTY"
      },
      "source": [
        "# Boruta"
      ]
    },
    {
      "cell_type": "code",
      "metadata": {
        "colab": {
          "base_uri": "https://localhost:8080/"
        },
        "id": "ZCDwZOnA7VtS",
        "outputId": "06401bda-45d1-47a7-ce56-4f95f0717bf1"
      },
      "source": [
        "!pip install Boruta"
      ],
      "execution_count": 78,
      "outputs": [
        {
          "output_type": "stream",
          "text": [
            "Collecting Boruta\n",
            "\u001b[?25l  Downloading https://files.pythonhosted.org/packages/b2/11/583f4eac99d802c79af9217e1eff56027742a69e6c866b295cce6a5a8fc2/Boruta-0.3-py3-none-any.whl (56kB)\n",
            "\r\u001b[K     |█████▉                          | 10kB 15.8MB/s eta 0:00:01\r\u001b[K     |███████████▋                    | 20kB 12.7MB/s eta 0:00:01\r\u001b[K     |█████████████████▍              | 30kB 9.2MB/s eta 0:00:01\r\u001b[K     |███████████████████████▏        | 40kB 7.5MB/s eta 0:00:01\r\u001b[K     |█████████████████████████████   | 51kB 4.6MB/s eta 0:00:01\r\u001b[K     |████████████████████████████████| 61kB 3.2MB/s \n",
            "\u001b[?25hRequirement already satisfied: numpy>=1.10.4 in /usr/local/lib/python3.6/dist-packages (from Boruta) (1.19.4)\n",
            "Requirement already satisfied: scikit-learn>=0.17.1 in /usr/local/lib/python3.6/dist-packages (from Boruta) (0.22.2.post1)\n",
            "Requirement already satisfied: scipy>=0.17.0 in /usr/local/lib/python3.6/dist-packages (from Boruta) (1.4.1)\n",
            "Requirement already satisfied: joblib>=0.11 in /usr/local/lib/python3.6/dist-packages (from scikit-learn>=0.17.1->Boruta) (1.0.0)\n",
            "Installing collected packages: Boruta\n",
            "Successfully installed Boruta-0.3\n"
          ],
          "name": "stdout"
        }
      ]
    },
    {
      "cell_type": "code",
      "metadata": {
        "id": "dVeHdcpM7WTB"
      },
      "source": [
        "from boruta import BorutaPy"
      ],
      "execution_count": 79,
      "outputs": []
    },
    {
      "cell_type": "code",
      "metadata": {
        "colab": {
          "base_uri": "https://localhost:8080/"
        },
        "id": "Ah-X48Gu7nc5",
        "outputId": "305c6467-0c91-4ed7-a49a-620cb103b8e5"
      },
      "source": [
        "rfc_b = RandomForestClassifier()\r\n",
        "boruta_selector = BorutaPy(rfc_b)   # initialize the boruta selector\r\n",
        "boruta_selector.fit(np.array(X_train), np.array(y_train)) "
      ],
      "execution_count": 103,
      "outputs": [
        {
          "output_type": "execute_result",
          "data": {
            "text/plain": [
              "BorutaPy(alpha=0.05,\n",
              "         estimator=RandomForestClassifier(bootstrap=True, ccp_alpha=0.0,\n",
              "                                          class_weight=None, criterion='gini',\n",
              "                                          max_depth=None, max_features='auto',\n",
              "                                          max_leaf_nodes=None, max_samples=None,\n",
              "                                          min_impurity_decrease=0.0,\n",
              "                                          min_impurity_split=None,\n",
              "                                          min_samples_leaf=1,\n",
              "                                          min_samples_split=2,\n",
              "                                          min_weight_fraction_leaf=0.0,\n",
              "                                          n_estimators=1000, n_jobs=None,\n",
              "                                          oob_score=False,\n",
              "                                          random_state=RandomState(MT19937) at 0x7FEAC08D7678,\n",
              "                                          verbose=0, warm_start=False),\n",
              "         max_iter=100, n_estimators=1000, perc=100,\n",
              "         random_state=RandomState(MT19937) at 0x7FEAC08D7678, two_step=True,\n",
              "         verbose=0)"
            ]
          },
          "metadata": {
            "tags": []
          },
          "execution_count": 103
        }
      ]
    },
    {
      "cell_type": "code",
      "metadata": {
        "id": "Ar3oS7WR7wuN"
      },
      "source": [
        "X_important_train = boruta_selector.transform(np.array(X_train))\r\n",
        "X_important_test = boruta_selector.transform(np.array(X_test))"
      ],
      "execution_count": 104,
      "outputs": []
    },
    {
      "cell_type": "code",
      "metadata": {
        "colab": {
          "base_uri": "https://localhost:8080/"
        },
        "id": "k0vCKym49NAM",
        "outputId": "5ae50ddc-1240-4e12-bf6d-42ec72c1456f"
      },
      "source": [
        "rfb_important = RandomForestClassifier(random_state=1)\r\n",
        "\r\n",
        "# Train the new classifier on the new dataset containing the most important features\r\n",
        "rfb_important.fit(X_important_train, y_train)"
      ],
      "execution_count": 105,
      "outputs": [
        {
          "output_type": "execute_result",
          "data": {
            "text/plain": [
              "RandomForestClassifier(bootstrap=True, ccp_alpha=0.0, class_weight=None,\n",
              "                       criterion='gini', max_depth=None, max_features='auto',\n",
              "                       max_leaf_nodes=None, max_samples=None,\n",
              "                       min_impurity_decrease=0.0, min_impurity_split=None,\n",
              "                       min_samples_leaf=1, min_samples_split=2,\n",
              "                       min_weight_fraction_leaf=0.0, n_estimators=100,\n",
              "                       n_jobs=None, oob_score=False, random_state=1, verbose=0,\n",
              "                       warm_start=False)"
            ]
          },
          "metadata": {
            "tags": []
          },
          "execution_count": 105
        }
      ]
    },
    {
      "cell_type": "code",
      "metadata": {
        "colab": {
          "base_uri": "https://localhost:8080/"
        },
        "id": "U6npYoul9WBW",
        "outputId": "e8c411c1-e5c3-4f55-c305-6ece43895cdd"
      },
      "source": [
        "print(classification_report(y_test,rfb_important.predict(X_important_test)))"
      ],
      "execution_count": 106,
      "outputs": [
        {
          "output_type": "stream",
          "text": [
            "              precision    recall  f1-score   support\n",
            "\n",
            "           0       0.98      0.98      0.98      9504\n",
            "           1       0.98      0.98      0.98      9517\n",
            "\n",
            "    accuracy                           0.98     19021\n",
            "   macro avg       0.98      0.98      0.98     19021\n",
            "weighted avg       0.98      0.98      0.98     19021\n",
            "\n"
          ],
          "name": "stdout"
        }
      ]
    },
    {
      "cell_type": "code",
      "metadata": {
        "id": "A8on4Ty49sjp"
      },
      "source": [
        "Xb_final_test = boruta_selector.transform(np.array(X_test_data))"
      ],
      "execution_count": 107,
      "outputs": []
    },
    {
      "cell_type": "code",
      "metadata": {
        "id": "BpIn972I9g5Z"
      },
      "source": [
        "y_test_rfb = rfb_important.predict(Xb_final_test)"
      ],
      "execution_count": 108,
      "outputs": []
    },
    {
      "cell_type": "code",
      "metadata": {
        "id": "ukzGBmUB9nhb"
      },
      "source": [
        "res_basic = pd.DataFrame(y_test_rfb) #preditcions are nothing but the final predictions of your model on input features of your new unseen test data\r\n",
        "res_basic.index = X_test_data.index # its important for comparison. Here \"test_new\" is your new test dataset\r\n",
        "res_basic.columns = [\"prediction\"]\r\n",
        "res_basic.to_csv(\"prediction_selection_boruta.csv\")      # the csv file will be saved locally on the same location where this notebook is located."
      ],
      "execution_count": 109,
      "outputs": []
    },
    {
      "cell_type": "code",
      "metadata": {
        "colab": {
          "base_uri": "https://localhost:8080/",
          "height": 17
        },
        "id": "vga8ZHRj-TE-",
        "outputId": "56c5931d-8853-4fb1-da86-e103834545a2"
      },
      "source": [
        "from google.colab import files\r\n",
        "res_basic.to_csv('prediction_selection_boruta.csv')         \r\n",
        "files.download('prediction_selection_boruta.csv')"
      ],
      "execution_count": 110,
      "outputs": [
        {
          "output_type": "display_data",
          "data": {
            "application/javascript": [
              "\n",
              "    async function download(id, filename, size) {\n",
              "      if (!google.colab.kernel.accessAllowed) {\n",
              "        return;\n",
              "      }\n",
              "      const div = document.createElement('div');\n",
              "      const label = document.createElement('label');\n",
              "      label.textContent = `Downloading \"${filename}\": `;\n",
              "      div.appendChild(label);\n",
              "      const progress = document.createElement('progress');\n",
              "      progress.max = size;\n",
              "      div.appendChild(progress);\n",
              "      document.body.appendChild(div);\n",
              "\n",
              "      const buffers = [];\n",
              "      let downloaded = 0;\n",
              "\n",
              "      const channel = await google.colab.kernel.comms.open(id);\n",
              "      // Send a message to notify the kernel that we're ready.\n",
              "      channel.send({})\n",
              "\n",
              "      for await (const message of channel.messages) {\n",
              "        // Send a message to notify the kernel that we're ready.\n",
              "        channel.send({})\n",
              "        if (message.buffers) {\n",
              "          for (const buffer of message.buffers) {\n",
              "            buffers.push(buffer);\n",
              "            downloaded += buffer.byteLength;\n",
              "            progress.value = downloaded;\n",
              "          }\n",
              "        }\n",
              "      }\n",
              "      const blob = new Blob(buffers, {type: 'application/binary'});\n",
              "      const a = document.createElement('a');\n",
              "      a.href = window.URL.createObjectURL(blob);\n",
              "      a.download = filename;\n",
              "      div.appendChild(a);\n",
              "      a.click();\n",
              "      div.remove();\n",
              "    }\n",
              "  "
            ],
            "text/plain": [
              "<IPython.core.display.Javascript object>"
            ]
          },
          "metadata": {
            "tags": []
          }
        },
        {
          "output_type": "display_data",
          "data": {
            "application/javascript": [
              "download(\"download_db88a79d-49d8-4bd4-8635-d21667a2bc94\", \"prediction_selection_boruta.csv\", 115558)"
            ],
            "text/plain": [
              "<IPython.core.display.Javascript object>"
            ]
          },
          "metadata": {
            "tags": []
          }
        }
      ]
    },
    {
      "cell_type": "code",
      "metadata": {
        "id": "dKf19iNh-YkZ"
      },
      "source": [
        ""
      ],
      "execution_count": null,
      "outputs": []
    }
  ]
}